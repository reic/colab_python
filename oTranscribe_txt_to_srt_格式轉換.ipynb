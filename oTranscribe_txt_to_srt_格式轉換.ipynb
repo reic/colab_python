{
  "nbformat": 4,
  "nbformat_minor": 0,
  "metadata": {
    "colab": {
      "name": "oTranscribe txt to srt 格式轉換",
      "provenance": [],
      "collapsed_sections": [],
      "authorship_tag": "ABX9TyNJPPK3ZrjB0IW7b/1usTGG",
      "include_colab_link": true
    },
    "kernelspec": {
      "name": "python3",
      "display_name": "Python 3"
    }
  },
  "cells": [
    {
      "cell_type": "markdown",
      "metadata": {
        "id": "view-in-github",
        "colab_type": "text"
      },
      "source": [
        "<a href=\"https://colab.research.google.com/github/reic/colab_python/blob/main/oTranscribe_txt_to_srt_%E6%A0%BC%E5%BC%8F%E8%BD%89%E6%8F%9B.ipynb\" target=\"_parent\"><img src=\"https://colab.research.google.com/assets/colab-badge.svg\" alt=\"Open In Colab\"/></a>"
      ]
    },
    {
      "cell_type": "markdown",
      "metadata": {
        "id": "wfFfVeSgXqTT"
      },
      "source": [
        "# oTranscribe txt 轉出轉 rst 格式\r\n",
        "\r\n",
        "rst 為 SubRip (.srt) 的格式，可用於 YouTube cc 字幕。"
      ]
    },
    {
      "cell_type": "code",
      "metadata": {
        "cellView": "form",
        "id": "T9JBJrZYZbZe"
      },
      "source": [
        "#@title 需求模組預載\r\n",
        "#@markdown 此區塊一定要執行\r\n",
        "\r\n",
        "from google.colab import files\r\n",
        "import re"
      ],
      "execution_count": null,
      "outputs": []
    },
    {
      "cell_type": "code",
      "metadata": {
        "cellView": "form",
        "id": "MkCN-ubYYYSe"
      },
      "source": [
        "#@title 上傳檔案\r\n",
        "uploaded = files.upload()"
      ],
      "execution_count": null,
      "outputs": []
    },
    {
      "cell_type": "code",
      "metadata": {
        "cellView": "form",
        "id": "1UYrae9gEnBI"
      },
      "source": [
        "#@title 環境設定\r\n",
        "\r\n",
        "#@markdown 上傳檔案名稱\r\n",
        "input_filename='1.txt' #@param {type:\"string\"} \r\n",
        "\r\n",
        "#@markdown 輸出檔案名稱\r\n",
        "output_filename=\"srt_output.txt\" #@param {type:\"string\"}"
      ],
      "execution_count": null,
      "outputs": []
    },
    {
      "cell_type": "code",
      "metadata": {
        "cellView": "form",
        "id": "MzZEky3BHApL"
      },
      "source": [
        "#@title 執行格式轉換\r\n",
        "with open(input_filename,'r',encoding='utf-8') as f:\r\n",
        "  text=f.read().replace(\"\\xa0\",' ')\r\n",
        "\r\n",
        "re_patten=r'([0-9:]+)\\s{0,2}(.*)\\s?\\n'\r\n",
        "aa=re.findall(re_patten,text)\r\n",
        "content=''\r\n",
        "end=len(aa)-1\r\n",
        "for idx,itm in enumerate(aa):\r\n",
        "  if len(itm)==0:\r\n",
        "    continue\r\n",
        "  content+=\"%d\\n\"%(idx+1)\r\n",
        "  if idx != end:\r\n",
        "    content+=\"00:{} --> 00:{}\\n\".format(itm[0],aa[idx+1][0])\r\n",
        "  else:\r\n",
        "    tmp=itm[0].split(\":\")\r\n",
        "    tmp[-1]=str(int(tmp[-1])+5)\r\n",
        "    # print(\":\".join(tmp))\r\n",
        "    content+=\"00:{} --> 00:{}\\n\".format(itm[0],\":\".join(tmp))\r\n",
        "  content+=\"%s\\n\\n\"%itm[1]\r\n",
        " \r\n",
        "with open(output_filename,\"w\",encoding='utf-8') as f:\r\n",
        "  f.write(content)\r\n",
        "  "
      ],
      "execution_count": null,
      "outputs": []
    },
    {
      "cell_type": "code",
      "metadata": {
        "cellView": "form",
        "id": "QyeMdPh5HZJA"
      },
      "source": [
        "#@title 下載檔案\r\n",
        "from google.colab import files\r\n",
        "files.download(output_filename)"
      ],
      "execution_count": null,
      "outputs": []
    }
  ]
}