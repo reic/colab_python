{
  "nbformat": 4,
  "nbformat_minor": 0,
  "metadata": {
    "colab": {
      "provenance": [],
      "gpuType": "T4",
      "mount_file_id": "1z5py79AseIPWuKFO0oZ95uo4t3nA_0iG",
      "authorship_tag": "ABX9TyNvieGvDeMhvmqT/6Wjj2+A",
      "include_colab_link": true
    },
    "kernelspec": {
      "name": "python3",
      "display_name": "Python 3"
    },
    "language_info": {
      "name": "python"
    },
    "accelerator": "GPU"
  },
  "cells": [
    {
      "cell_type": "markdown",
      "metadata": {
        "id": "view-in-github",
        "colab_type": "text"
      },
      "source": [
        "<a href=\"https://colab.research.google.com/github/reic/colab_python/blob/main/whisper_Test.ipynb\" target=\"_parent\"><img src=\"https://colab.research.google.com/assets/colab-badge.svg\" alt=\"Open In Colab\"/></a>"
      ]
    },
    {
      "cell_type": "markdown",
      "source": [
        "# (一) 首先要變更執行階類類型：選擇 T4 GPU\n"
      ],
      "metadata": {
        "id": "Z8j9agRoP2Ef"
      }
    },
    {
      "cell_type": "code",
      "execution_count": null,
      "metadata": {
        "id": "ESQe_Qm7Ceoz"
      },
      "outputs": [],
      "source": [
        "# @title (1) 安裝 whipser\n",
        "!pip install git+https://github.com/openai/whisper.git"
      ]
    },
    {
      "cell_type": "markdown",
      "source": [
        "### (2) 掛載雲端硬碟\n",
        "1. 透過 Coloab 左邊的操作介面掛載\n",
        "2. 上傳音檔/影像檔到 Google drive\n",
        "  - 個人偏好在 Google drive 建一個 tmp 資料夾\n",
        "  - 將音檔上傳到 tmp 資料夾\n",
        "  - 在 Colab 左邊的掛載介面找到 drive => MyDrive => tmp\n",
        "  - 點選上載的音檔，按滑鼠右鍵，點選 複製路徑\n",
        "3. 將敏製的部徑貼到轉檔區塊的 filenames 欄位中"
      ],
      "metadata": {
        "id": "vj1rk1zOKoh7"
      }
    },
    {
      "cell_type": "code",
      "source": [
        "# @title (3) 轉檔\n",
        "import os\n",
        "filename = \"/content/drive/MyDrive/tmp/\\u9304\\u88FD (2).m4a\" # @param {type:\"string\"}\n",
        "os.chdir(os.path.dirname(filename))\n",
        "os.getcwd()\n",
        "!whisper \"{filename}\" --model large-v2 --language Chinese"
      ],
      "metadata": {
        "id": "t1k2RIWHDfhz"
      },
      "execution_count": null,
      "outputs": []
    },
    {
      "cell_type": "markdown",
      "source": [
        "# 待嘗試\n",
        "\n",
        "https://github.com/sanchit-gandhi/whisper-jax#creating-an-endpoint"
      ],
      "metadata": {
        "id": "Daf9odo6V27_"
      }
    },
    {
      "cell_type": "code",
      "source": [
        "import os\n",
        "os.chdir(os.path.dirname(filename))\n",
        "os.getcwd()"
      ],
      "metadata": {
        "colab": {
          "base_uri": "https://localhost:8080/",
          "height": 35
        },
        "id": "2kNMQIdNgS48",
        "outputId": "55a5423c-5dae-4c68-cbdc-cac03c1de722"
      },
      "execution_count": 8,
      "outputs": [
        {
          "output_type": "execute_result",
          "data": {
            "text/plain": [
              "'/content/drive/MyDrive/tmp'"
            ],
            "application/vnd.google.colaboratory.intrinsic+json": {
              "type": "string"
            }
          },
          "metadata": {},
          "execution_count": 8
        }
      ]
    },
    {
      "cell_type": "markdown",
      "source": [],
      "metadata": {
        "id": "b3sMAp0iRlEY"
      }
    }
  ]
}