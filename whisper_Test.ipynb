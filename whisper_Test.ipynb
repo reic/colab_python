{
  "nbformat": 4,
  "nbformat_minor": 0,
  "metadata": {
    "colab": {
      "provenance": [],
      "gpuType": "T4",
      "mount_file_id": "1z5py79AseIPWuKFO0oZ95uo4t3nA_0iG",
      "authorship_tag": "ABX9TyOauqTw9dUKbwUhAp5yWPkO",
      "include_colab_link": true
    },
    "kernelspec": {
      "name": "python3",
      "display_name": "Python 3"
    },
    "language_info": {
      "name": "python"
    },
    "accelerator": "GPU"
  },
  "cells": [
    {
      "cell_type": "markdown",
      "metadata": {
        "id": "view-in-github",
        "colab_type": "text"
      },
      "source": [
        "<a href=\"https://colab.research.google.com/github/reic/colab_python/blob/main/whisper_Test.ipynb\" target=\"_parent\"><img src=\"https://colab.research.google.com/assets/colab-badge.svg\" alt=\"Open In Colab\"/></a>"
      ]
    },
    {
      "cell_type": "markdown",
      "source": [
        "# (一) 選擇適合的運作環境： T4 GPU\n",
        "本 Colab 虛擬機器使用為免費、多GPU的環境。已指定 T4 GPU 版本。\n",
        "\n",
        "若由  Github 直接開啟，可以忽略此說明。"
      ],
      "metadata": {
        "id": "Z8j9agRoP2Ef"
      }
    },
    {
      "cell_type": "code",
      "execution_count": null,
      "metadata": {
        "id": "ESQe_Qm7Ceoz",
        "cellView": "form"
      },
      "outputs": [],
      "source": [
        "# @title (1) 安裝 whipser\n",
        "!pip install git+https://github.com/openai/whisper.git"
      ]
    },
    {
      "cell_type": "markdown",
      "source": [
        "### (2) 掛載雲端硬碟\n",
        "1. 透過 Coloab 左邊的操作介面掛載\n",
        "2. 上傳音檔/影像檔到 Google drive\n",
        "  - 個人偏好在 Google drive 建一個 tmp 資料夾\n",
        "  - 將音檔上傳到 tmp 資料夾\n",
        "  - 在 Colab 左邊的掛載介面找到 drive => MyDrive => tmp\n",
        "  - 點選上載的音檔，按滑鼠右鍵，點選 複製路徑\n",
        "3. 將複製的路徑貼到轉檔區塊的 filenames 欄位中"
      ],
      "metadata": {
        "id": "vj1rk1zOKoh7"
      }
    },
    {
      "cell_type": "code",
      "source": [
        "# @title (3) 轉檔\n",
        "import os\n",
        "filename = \"/content/drive/MyDrive/tmp/語音 011.m4a\" # @param {type:\"string\"}\n",
        "#@markdown 設定使用的模型\n",
        "model= \"large-v2\" # @param {type:\"string\"}\n",
        "#@markdown 設定主要的語言\n",
        "language = \"Chinese\" # @param {type:\"string\"}\n",
        "os.chdir(os.path.dirname(filename))\n",
        "os.getcwd()\n",
        "!whisper \"{filename}\" --model {model} --language {language}"
      ],
      "metadata": {
        "id": "t1k2RIWHDfhz"
      },
      "execution_count": null,
      "outputs": []
    },
    {
      "cell_type": "markdown",
      "source": [
        "# (二) 取得法說會文字"
      ],
      "metadata": {
        "id": "OjboOjHQ6qOJ"
      }
    },
    {
      "cell_type": "code",
      "source": [
        "# @title (4) 法會說e逐字稿，當影片在 Youtube 可直接使用這個\n",
        "!pip install yt-dlp\n",
        "\n",
        "tubeUrl = \"https://www.youtube.com/watch?v=ctltL6rLX_o\" # @param {type:\"string\"}\n",
        "import os\n",
        "from yt_dlp import YoutubeDL\n",
        "companyName=\"MTK\" # @param {type:\"string\"}\n",
        "filename = '/content/drive/MyDrive/tmp/'+companyName+'_法說會資料.m4a'\n",
        "with YoutubeDL({'overwrites':True, 'format':'bestaudio[ext=m4a]', 'outtmpl':filename}) as ydl:\n",
        "# with YoutubeDL({'overwrites':True, 'format':'bestaudio[ext=m4a]', 'output':\"%(title)s.%(ext)s\"}) as ydl:\n",
        "    ydl.download(tubeUrl)\n",
        "\n",
        "os.chdir(os.path.dirname(filename))\n",
        "os.getcwd()\n",
        "!whisper \"{filename}\" --model large-v2 --language Chinese\n",
        "\n",
        "from google.colab import files\n",
        "files.download('{}.txt'.format(filename))"
      ],
      "metadata": {
        "id": "2kNMQIdNgS48"
      },
      "execution_count": null,
      "outputs": []
    },
    {
      "cell_type": "markdown",
      "source": [
        "# 待嘗試\n",
        "\n",
        "* https://github.com/sanchit-gandhi/whisper-jax#creating-an-endpoint\n",
        "* ctranslate2 https://pypi.org/project/whisper-ctranslate2/\n",
        "*   清單項目\n",
        "\n"
      ],
      "metadata": {
        "id": "Daf9odo6V27_"
      }
    },
    {
      "cell_type": "code",
      "source": [
        "# !pip install youtube-dl\n",
        "tubeUrl = \"https://www.youtube.com/watch?app=desktop&v=WKHKy89QaV0\" # @param {type:\"string\"}\n",
        "# !yt-dlp --list-subs {tubeUrl}\n",
        "\n"
      ],
      "metadata": {
        "id": "bmcYyjR4514-"
      },
      "execution_count": null,
      "outputs": []
    },
    {
      "cell_type": "code",
      "source": [
        "#  !yt-dlp --write-subs --zh-Hans {tubeUrl}\n",
        "!pip install youtube-dl\n",
        "\n",
        "!yt-dlp --write-subs zh-Hant  {tubeUrl}"
      ],
      "metadata": {
        "id": "iTCCbNa6cXmf"
      },
      "execution_count": null,
      "outputs": []
    },
    {
      "cell_type": "markdown",
      "source": [],
      "metadata": {
        "id": "b3sMAp0iRlEY"
      }
    }
  ]
}