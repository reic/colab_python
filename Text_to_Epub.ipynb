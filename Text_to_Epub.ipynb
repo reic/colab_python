{
  "nbformat": 4,
  "nbformat_minor": 0,
  "metadata": {
    "colab": {
      "name": "Text_to_Epub.ipynb",
      "provenance": [],
      "collapsed_sections": [],
      "authorship_tag": "ABX9TyMh3weH5Ff1X16VgBrTewta",
      "include_colab_link": true
    },
    "kernelspec": {
      "name": "python3",
      "display_name": "Python 3"
    },
    "language_info": {
      "name": "python"
    }
  },
  "cells": [
    {
      "cell_type": "markdown",
      "metadata": {
        "id": "view-in-github",
        "colab_type": "text"
      },
      "source": [
        "<a href=\"https://colab.research.google.com/github/reic/colab_python/blob/main/Text_to_Epub.ipynb\" target=\"_parent\"><img src=\"https://colab.research.google.com/assets/colab-badge.svg\" alt=\"Open In Colab\"/></a>"
      ]
    },
    {
      "cell_type": "code",
      "source": [
        "#@title Text 轉 epub 程式\n",
        "import re, os\n",
        "\n",
        "# check 套件\n",
        "def chkmodule(libset):\n",
        "  itm=os.popen(\"pip3 list\").read().splitlines()\n",
        "  itm=[ data[:data.find(\" \")].lower() for data in itm if len(data[:data.find(\" \")])>0 ]\n",
        "  # set(itm)\n",
        "  if 'iNLP'.lower() in set(itm):\n",
        "    return\n",
        "  os.system(f\"pip3 install {libset}\")\n",
        "\n",
        "chkmodule(\"inlp\")\n",
        "from inlp.convert import chinese\n",
        "\n",
        "# 基礎設定資料\n",
        "filename=\"/content/MD2Epub.txt\" #@param {type:\"string\"}\n",
        "title=\"修真聊天群\" #@param {type:\"string\"}\n",
        "author=\"聖騎士的傳說\" #@param {type:\"string\"}\n",
        "#@markdown 打勾，將會協助進行簡體轉繁體\n",
        "chinese_S2T = True #@param {type:\"boolean\"}\n",
        "\n",
        "# 標題設定義\n",
        "YAML=f'''---\n",
        "title: {title}\n",
        "author: {author}\n",
        "language: zh-Hant\n",
        "---'''\n",
        "# page_break=\"<div style='page-break-after:always; visibility:hidden'></div>\"\n",
        "\n",
        "\n",
        "with open(\"title.txt\",mode=\"w\",encoding='utf-8') as f:\n",
        "  f.write(YAML)\n",
        "\n",
        "with open(filename,mode=\"r\",encoding='utf-8') as f:\n",
        "  content=f.read()\n",
        "text=re.sub(r\"\\n+\",\"\\n\\n\",re.sub(r\"[\\u3000]+\",\"\",content))\n",
        "\n",
        "\n",
        "# 章/卷處理\n",
        "patterns=[[r\"(第.*卷\\s?)\",\"##\"],[r\"(第.*章\\s?)\",\"##\"]]\n",
        "for pns in patterns:  \n",
        "  text=re.sub(pns[0],r\"{} \\1\".format(pns[1]),text)\n",
        "\n",
        "# 建立 md 檔的函數\n",
        "def writemd(title,arrtomd):\n",
        "  with open(\"{:04d}.md\".format(title),mode=\"w\",encoding='utf-8') as f:\n",
        "    f.write(arrtomd)\n",
        "\n",
        "## 文字處理\n",
        "textarry=text.split(\"## \")\n",
        "counter=0 # counter　為 md 檔名\n",
        "mdfiles=[] # 記錄 md 檔名\n",
        "# 若為簡體文件，就需要用 註解的那一個\n",
        "for itm in textarry[1:]:\n",
        "  if chinese_S2T:\n",
        "    itm=chinese.s2t(itm)\n",
        "  # writemd(counter,\"# {}\".format(chinese.s2t(itm)))\n",
        "  writemd(counter,\"# {}\".format(itm))\n",
        "  mdfiles.append(\"{:04d}.md\".format(counter))\n",
        "  counter+=1\n",
        "\n",
        "# counter　為 md 檔名\n",
        "# mdfiles=[\"{:04d}.md\".format(itm) for itm in range(counter)]\n",
        "\n",
        "# 透過 pandoc 生成 epub \n",
        "os.system(\"pandoc -o \\\"{}.epub\\\" title.txt {}\".format(title,\" \".join(mdfiles)))\n",
        "\n",
        "# 下載\n",
        "from google.colab import files\n",
        "files.download('{}.epub'.format(title))"
      ],
      "metadata": {
        "id": "j7I7yNlusJCZ"
      },
      "execution_count": null,
      "outputs": []
    },
    {
      "cell_type": "code",
      "source": [
        "import re, os\n",
        "def chkmodule(libset):\n",
        "  itm=os.popen(\"pip3 list\").read().splitlines()\n",
        "  itm=[ data[:data.find(\" \")].lower() for data in itm if len(data[:data.find(\" \")])>0 ]  \n",
        "  if 'iNLP'.lower() in set(itm):\n",
        "    return\n",
        "  os.system(f\"pip3 install {libset}\")\n",
        "\n",
        "chkmodule(\"iNLP\")\n",
        "from inlp.convert import chinese"
      ],
      "metadata": {
        "id": "LIiIMSU8k0Sz"
      },
      "execution_count": 2,
      "outputs": []
    },
    {
      "cell_type": "code",
      "source": [
        ""
      ],
      "metadata": {
        "id": "I8k3p0a_lGSQ"
      },
      "execution_count": 5,
      "outputs": []
    }
  ]
}