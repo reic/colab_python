{
  "nbformat": 4,
  "nbformat_minor": 0,
  "metadata": {
    "colab": {
      "provenance": [],
      "collapsed_sections": [],
      "mount_file_id": "1z6G-heUGHnpYJkvVwXvsAnv3P2QRc19r",
      "authorship_tag": "ABX9TyNS1dzfV+5aHRAryCYSEOXi",
      "include_colab_link": true
    },
    "kernelspec": {
      "name": "python3",
      "display_name": "Python 3"
    },
    "language_info": {
      "name": "python"
    }
  },
  "cells": [
    {
      "cell_type": "markdown",
      "metadata": {
        "id": "view-in-github",
        "colab_type": "text"
      },
      "source": [
        "<a href=\"https://colab.research.google.com/github/reic/colab_python/blob/main/%E8%8B%B1%E6%96%87%E5%96%AE%E5%AD%97%E8%A8%88%E7%AE%97.ipynb\" target=\"_parent\"><img src=\"https://colab.research.google.com/assets/colab-badge.svg\" alt=\"Open In Colab\"/></a>"
      ]
    },
    {
      "cell_type": "code",
      "execution_count": 8,
      "metadata": {
        "id": "QxEVE_SZC_Bc",
        "cellView": "form"
      },
      "outputs": [],
      "source": [
        "#@title 在 context 輸入 zotero 標注的英文單字，並將單字存至 wordtank.txt\n",
        "import re\n",
        "from nltk.stem import PorterStemmer\n",
        "import os\n",
        "\n",
        "def checkFileexist(path,file):\n",
        "  fileWithPath=\"{}/{}\".format(path,file)\n",
        "  if os.path.isfile(fileWithPath):\n",
        "    return\n",
        "  with open(fileWithPath,mode=\"w\",encoding='utf-8') as f:\n",
        "    f.write(\"fromReic\")\n",
        "\n",
        "def stemworkcheck(worda,wordb):\n",
        "  if len(wordb)>len(worda):\n",
        "    return worda\n",
        "  return wordb\n",
        "  \n",
        "context = \"\\u201Celectrolyte\\u201D ([Wang \\u7B49\\u3002, 2022, p. 1](zotero://select/library/items/VHI4XUQN)) ([pdf](zotero://open-pdf/library/items/3N7DAHAP?page=1&annotation=IG6RK45L)) electrolyte   \\u82F1 [\\u026A\\u02C8lektr\\u0259la\\u026At]   \\u7F8E [\\u026A\\u02C8lektr\\u0259la\\u026At]   n. \\u7535\\u89E3\\u6DB2\\uFF0C\\u7535\\u89E3\\u8D28\\uFF1B\\u7535\\u89E3   [ \\u590D\\u6570 electrolytes ]  \\u201Ccontradictions\\u201D ([Wang \\u7B49\\u3002, 2022, p. 2](zotero://select/library/items/VHI4XUQN)) ([pdf](zotero://open-pdf/library/items/3N7DAHAP?page=2&annotation=G3VLNTTD)) \\u77DB\\u76FE  \\u201Climbs\\u201D ([Wang \\u7B49\\u3002, 2022, p. 2](zotero://select/library/items/VHI4XUQN)) ([pdf](zotero://open-pdf/library/items/3N7DAHAP?page=2&annotation=UD9D4T95)) limbs   \\u82F1 [l\\u026Amz]   \\u7F8E [l\\u026Amz]   n. [\\u89E3\\u5256]\\u56DB\\u80A2\\uFF08limb \\u7684\\u590D\\u6570\\uFF09\" #@param {type:\"string\"}\n",
        "savedir = \"/content/drive/MyDrive/reic\" #@param {type:\"string\"}\n",
        "wordtank = \"wordtank.txt\" #@param {type:\"string\"}\n",
        "\n",
        "\n",
        "\n",
        "re_pattern=\"“(\\w+)[, .]?”\"\n",
        "ps=PorterStemmer()\n",
        "req=re.findall(re_pattern, context)\n",
        "req=[itm.lower() for itm in req]\n",
        "\n",
        "checkFileexist(savedir,wordtank)\n",
        "\n",
        "with open(\"{}/{}\".format(savedir,wordtank),mode=\"a\",encoding=\"utf-8\") as f:\n",
        "  f.write(\", {}\".format(\", \".join(req)))  "
      ]
    },
    {
      "cell_type": "code",
      "source": [
        "#@title 列出重複查詢次數最多的英文單字\n",
        "toprank = 10 #@param {type:\"number\"}\n",
        "with open(\"{}/{}\".format(savedir,wordtank),mode=\"r\",encoding=\"utf-8\") as f:\n",
        "  content=f.read().split(\", \")\n",
        "\n",
        "word=dict()\n",
        "wordcount=dict()\n",
        "for itm in content:\n",
        "  wordstem=ps.stem(itm)\n",
        "  word[wordstem]=stemworkcheck(word.get(wordstem,itm.lower()),itm.lower())\n",
        "  wordcount[wordstem]=wordcount.get(wordstem,0)+1\n",
        "\n",
        "arr=sorted(wordcount.items(),key=lambda x:x[1],reverse=True)\n",
        "for key,value in arr[:toprank]:\n",
        "  print(word[key],value)"
      ],
      "metadata": {
        "colab": {
          "base_uri": "https://localhost:8080/"
        },
        "id": "aGrzd_DBJ2R3",
        "outputId": "307e0750-7dff-40dc-be8b-b53eb296c97c",
        "cellView": "form"
      },
      "execution_count": 9,
      "outputs": [
        {
          "output_type": "stream",
          "name": "stdout",
          "text": [
            "fromreic 1\n",
            "electrolyte 1\n",
            "contradictions 1\n",
            "limbs 1\n"
          ]
        }
      ]
    }
  ]
}