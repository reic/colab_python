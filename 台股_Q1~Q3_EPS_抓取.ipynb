{
  "nbformat": 4,
  "nbformat_minor": 0,
  "metadata": {
    "colab": {
      "name": "台股 Q1~Q3 EPS 抓取",
      "provenance": [],
      "collapsed_sections": [],
      "authorship_tag": "ABX9TyN07p30nUIqqIvqXzYIUOF8",
      "include_colab_link": true
    },
    "kernelspec": {
      "name": "python3",
      "display_name": "Python 3"
    },
    "language_info": {
      "name": "python"
    }
  },
  "cells": [
    {
      "cell_type": "markdown",
      "metadata": {
        "id": "view-in-github",
        "colab_type": "text"
      },
      "source": [
        "<a href=\"https://colab.research.google.com/github/reic/colab_python/blob/main/%E5%8F%B0%E8%82%A1_Q1~Q3_EPS_%E6%8A%93%E5%8F%96.ipynb\" target=\"_parent\"><img src=\"https://colab.research.google.com/assets/colab-badge.svg\" alt=\"Open In Colab\"/></a>"
      ]
    },
    {
      "cell_type": "markdown",
      "source": [
        "# 自動取得台股 Q1~Q3 EPS\n",
        "\n",
        "文字標格式。數字和文字間用 tab 區分。一張股票一行。\n",
        "\n",
        "可以直接從 excel 貼到 txt 檔即可\n",
        "\n",
        "---\n",
        "2330 台積電"
      ],
      "metadata": {
        "id": "lCqeZiJAPLwc"
      }
    },
    {
      "cell_type": "code",
      "source": [
        "from typing import Tuple\n",
        "import requests\n",
        "import concurrent.futures\n",
        "from bs4 import BeautifulSoup, UnicodeDammit\n",
        "import pandas as pd\n",
        "\n",
        "def addeps(stockid):\n",
        "  \n",
        "  url=url_template.format(stockid)\n",
        "  reg=requests.get(url)\n",
        "  soup=BeautifulSoup(reg.text)\n",
        "  stockData=[]\n",
        "  for itm in soup.find(\"section\",id=\"qsp-eps-table\").find_all(\"span\",class_=\"\")[1:7:2]:\n",
        "    stockData.insert(0,itm.getText())\n",
        "  \n",
        "  stockids.get(stockid).extend(stockData)\n",
        "\n",
        "\n",
        "mytest=list()\n",
        "#@markdown 用 txt 檔存股票代碼\n",
        "stock_txt=\"/content/stock_id_name.txt\" #@param {type:'string'} \n",
        "with open(stock_txt,'rb') as f:\n",
        "  encode=UnicodeDammit(f.read()).original_encoding\n",
        "with open(stock_txt,\"r\",encoding=encode) as f:\n",
        "  content=[itm.split() for itm in f.read().splitlines()]\n",
        "\n",
        "'''\n",
        "Converting a list to dictionary with list elements as keys in dictionary\n",
        "All keys will have same value\n",
        "''' \n",
        "# create Stock_id data\n",
        "stockids = { i[0] : i for i in content }\n",
        "url_template=\"https://tw.stock.yahoo.com/quote/{}/eps\" \n",
        "with concurrent.futures.ThreadPoolExecutor(max_workers=10) as executor:\n",
        "  executor.map(addeps,stockids)\n",
        "df=pd.DataFrame(stockids.values(),columns=[\"股票代碼\",\"股票名稱\",\"Q1 EPS\",\"Q2 EPS\",\"Q3 EPS\"])\n",
        "df.to_excel(\"TWstocks_EPS.xlsx\",index=False)\n",
        "df\n",
        "\n",
        "  "
      ],
      "metadata": {
        "id": "6hjtu_OMGJud"
      },
      "execution_count": null,
      "outputs": []
    }
  ]
}