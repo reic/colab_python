{
  "nbformat": 4,
  "nbformat_minor": 0,
  "metadata": {
    "colab": {
      "name": "crawer",
      "provenance": [],
      "collapsed_sections": [],
      "mount_file_id": "11h2gvU2w0w-cWs1O2ciOwdgK4Wi6qndj",
      "authorship_tag": "ABX9TyPhoD7nN2sXYPgj0TGHMcF2",
      "include_colab_link": true
    },
    "kernelspec": {
      "name": "python3",
      "display_name": "Python 3"
    }
  },
  "cells": [
    {
      "cell_type": "markdown",
      "metadata": {
        "id": "view-in-github",
        "colab_type": "text"
      },
      "source": [
        "<a href=\"https://colab.research.google.com/github/reic/colab_python/blob/main/crawer.ipynb\" target=\"_parent\"><img src=\"https://colab.research.google.com/assets/colab-badge.svg\" alt=\"Open In Colab\"/></a>"
      ]
    },
    {
      "cell_type": "code",
      "metadata": {
        "id": "I_50yTDqw8sJ",
        "cellView": "form"
      },
      "source": [
        "#@title 載入基礎函數\n",
        "#@markdown 開啟暫存標目標\n",
        "\n",
        "import requests\n",
        "import os,re\n",
        "from bs4 import BeautifulSoup\n",
        "\n",
        "try:\n",
        "  os.mkdir(\"/content/tmp\")\n",
        "except:\n",
        "  print(\"目錄已存在\")\n",
        "os.chdir(\"/content/tmp\")\n",
        "\n"
      ],
      "execution_count": 1,
      "outputs": []
    },
    {
      "cell_type": "code",
      "metadata": {
        "id": "6PlVK__tP_Bi",
        "cellView": "form"
      },
      "source": [
        "#@title 品書閣 專用\n",
        "#@markdown 查看目錄=>章節列表\n",
        "url=\"https://tw.pinsuge.com/index/22.html\" #@param {type:'string'}\n",
        "sites=url[:url.find(\"/\",8)]\n",
        "req = requests.get(url)\n",
        "#@markdown 在 stop_word 之後為相關的廣告內容\n",
        "stop_word=\"請大家收藏\" #@param {type:'string'}\n",
        "#@markdown 若章節分成兩個頁面的處理字元\n",
        "next_word=\"點下一章繼續\" #@param {type:'string'}\n",
        "soup=BeautifulSoup(req.text)\n",
        "\n",
        "soup\n",
        "articles=soup.find_all(name=\"a\")\n",
        "output_name=soup.find(\"h1\").getText()\n",
        "links=[]\n",
        "\n",
        "for itm in articles[1:]:\n",
        "  if not itm.get(\"title\"):\n",
        "    continue \n",
        "  links.append([itm.get(\"title\",),\"{}{}\".format(sites,itm.get(\"href\"))])\n",
        "\n",
        "\n",
        "def get_content(content):\n",
        "  to_text=''\n",
        "  for itm in content[:-1]:\n",
        "    txt=itm.getText()\n",
        "    if \"一秒記住\" in txt:\n",
        "      continue\n",
        "    if stop_word in txt:\n",
        "      break    \n",
        "    to_text+=\"%s \\n\" %txt\n",
        "  return to_text\n",
        "\n",
        "def get_soup(url):\n",
        "  return BeautifulSoup(requests.get(url).text)\n",
        "\n",
        "def cont_chapter_check(soup,text):\n",
        "  return (len(soup.find_all(name=\"p\",string=re.compile(text))) >0)\n",
        "\n",
        "def cont_chapter_link(soup):\n",
        "  return soup.find(\"a\",text=\"下一章\").get(\"href\")\n",
        "\n",
        "index=1\n",
        "for link in links:  \n",
        "  soup=get_soup(link[1])\n",
        "  to_text=''\n",
        "  to_text+=\"%s \\n\" %link[0]\n",
        "  print(link[0])\n",
        "  to_text+=get_content(soup.find(name=\"div\",id=\"content\").find_all(name=\"p\"))\n",
        "  \n",
        "  if cont_chapter_check(soup,next_word):\n",
        "    reg2=requests.get(\"{}{}\".format(sites,cont_chapter_link(soup)))\n",
        "    to_text+=get_content(BeautifulSoup(reg2.text).find(name=\"div\",id=\"content\").find_all(name=\"p\"))\n",
        "  # print(to_text)\n",
        "\n",
        "  with open(\"%03d.txt\" % index,mode=\"w\",encoding=\"utf-8\") as f:\n",
        "    f.write(to_text)\n",
        "  index+=1\n",
        "\n",
        "files=os.listdir()\n",
        "files=[file for file in files if file.endswith(\".txt\")]\n",
        "files.sort()\n",
        "files\n",
        "for file in files:\n",
        "  os.system(\"cat {}>> ../{}.txt\".format(file,output_name))\n",
        "\n",
        "from google.colab import files\n",
        "files.download('../{}.txt'.format(output_name)) \n",
        "os.system(\"rm -fr *\")"
      ],
      "execution_count": null,
      "outputs": []
    }
  ]
}