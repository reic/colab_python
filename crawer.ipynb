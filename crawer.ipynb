{
  "nbformat": 4,
  "nbformat_minor": 0,
  "metadata": {
    "colab": {
      "name": "crawer",
      "provenance": [],
      "collapsed_sections": [],
      "mount_file_id": "11h2gvU2w0w-cWs1O2ciOwdgK4Wi6qndj",
      "authorship_tag": "ABX9TyOpjtSE5/1gIgNZWZ9BwRUF",
      "include_colab_link": true
    },
    "kernelspec": {
      "name": "python3",
      "display_name": "Python 3"
    }
  },
  "cells": [
    {
      "cell_type": "markdown",
      "metadata": {
        "id": "view-in-github",
        "colab_type": "text"
      },
      "source": [
        "<a href=\"https://colab.research.google.com/github/reic/colab_python/blob/main/crawer.ipynb\" target=\"_parent\"><img src=\"https://colab.research.google.com/assets/colab-badge.svg\" alt=\"Open In Colab\"/></a>"
      ]
    },
    {
      "cell_type": "code",
      "metadata": {
        "id": "I_50yTDqw8sJ"
      },
      "source": [
        "import requests\n",
        "import os,re\n",
        "from bs4 import BeautifulSoup\n",
        "# 品書閣\n",
        "url=\"https://tw.pinsuge.com/index/85767.html\" #@param {type:'string'}\n",
        "sites=\"https://tw.pinsuge.com\" #@param {type:'string'}\n",
        "req = requests.get(url)\n",
        "stop_word=\"請大家收藏\" #@param {type:'string'}\n",
        "next_word=\"點下一章繼續\"\n",
        "soup=BeautifulSoup(req.text)\n",
        "\n",
        "soup"
      ],
      "execution_count": null,
      "outputs": []
    },
    {
      "cell_type": "code",
      "metadata": {
        "id": "6PlVK__tP_Bi"
      },
      "source": [
        "articles=soup.find_all(name=\"a\")\n",
        "links=[]\n",
        "\n",
        "for itm in articles[1:]:\n",
        "  if not itm.get(\"title\"):\n",
        "    continue \n",
        "  links.append([itm.get(\"title\",),\"{}{}\".format(sites,itm.get(\"href\"))])\n",
        "try:\n",
        "  os.mkdir(\"/content/tmp\")\n",
        "except:\n",
        "  print(\"目錄已存在\")\n",
        "os.chdir(\"/content/tmp\")\n",
        "links"
      ],
      "execution_count": null,
      "outputs": []
    },
    {
      "cell_type": "code",
      "metadata": {
        "id": "4QmKi-SOYmLx"
      },
      "source": [
        "\n",
        "def get_content(content):\n",
        "\n",
        "  to_text=''\n",
        "  for itm in content[:-1]:\n",
        "    txt=itm.getText()\n",
        "    if \"一秒記住\" in txt:\n",
        "      continue\n",
        "    if stop_word in txt:\n",
        "      break\n",
        "    \n",
        "    to_text+=\"%s \\n\" %txt\n",
        "  return to_text\n",
        "  \n",
        "  \n",
        "\n",
        "index=1\n",
        "for link in links:\n",
        "  reg=requests.get(link[1])\n",
        "  soup=BeautifulSoup(reg.text)\n",
        "  soup.find(name=\"div\",id=\"content\").find_all(name=\"p\")\n",
        "  \n",
        "  to_text=''\n",
        "  to_text+=\"%s \\n\" %link[0]\n",
        "  print(link[0])\n",
        "  to_text+=get_content(soup.find(name=\"div\",id=\"content\").find_all(name=\"p\"))\n",
        "  if len(soup.find_all(name=\"p\",string=re.compile(next_word)))>0:\n",
        "    reg2=requests.get(\"{}{}\".format(sites,soup.find(\"a\",text=\"下一章\").get(\"href\")))\n",
        "    to_text+=get_content(BeautifulSoup(reg2.text).find(name=\"div\",id=\"content\").find_all(name=\"p\"))\n",
        "  # print(to_text)\n",
        "\n",
        "  with open(\"%03d.txt\" % index,mode=\"w\",encoding=\"utf-8\") as f:\n",
        "    f.write(to_text)\n",
        "  index+=1\n"
      ],
      "execution_count": null,
      "outputs": []
    },
    {
      "cell_type": "code",
      "metadata": {
        "id": "USmfztpUZ-LN"
      },
      "source": [
        "files=os.listdir()\n",
        "files=[file for file in files if file.endswith(\".txt\")]\n",
        "files.sort()\n",
        "files\n",
        "for file in files:\n",
        "  os.system(\"cat {}>> ../ouptput.txt\".format(file))\n",
        "\n",
        "from google.colab import files\n",
        "files.download('../ouptput.txt') \n",
        "os.system(\"rm -fr *\")"
      ],
      "execution_count": null,
      "outputs": []
    }
  ]
}