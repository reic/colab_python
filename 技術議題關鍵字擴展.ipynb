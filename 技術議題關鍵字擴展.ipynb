{
  "nbformat": 4,
  "nbformat_minor": 0,
  "metadata": {
    "colab": {
      "name": "技術議題關鍵字擴展.ipynb",
      "provenance": [],
      "collapsed_sections": [],
      "authorship_tag": "ABX9TyMyNGTkHiJqDnHlxAl49B1p",
      "include_colab_link": true
    },
    "kernelspec": {
      "name": "python3",
      "display_name": "Python 3"
    },
    "language_info": {
      "name": "python"
    }
  },
  "cells": [
    {
      "cell_type": "markdown",
      "metadata": {
        "id": "view-in-github",
        "colab_type": "text"
      },
      "source": [
        "<a href=\"https://colab.research.google.com/github/reic/colab_python/blob/main/%E6%8A%80%E8%A1%93%E8%AD%B0%E9%A1%8C%E9%97%9C%E9%8D%B5%E5%AD%97%E6%93%B4%E5%B1%95.ipynb\" target=\"_parent\"><img src=\"https://colab.research.google.com/assets/colab-badge.svg\" alt=\"Open In Colab\"/></a>"
      ]
    },
    {
      "cell_type": "code",
      "metadata": {
        "id": "hQN-VXYIGSKX",
        "colab": {
          "base_uri": "https://localhost:8080/"
        },
        "cellView": "form",
        "outputId": "775cc8cb-1ec3-47ee-dffd-19f241bd2f73"
      },
      "source": [
        "#@title 關鍵字擴展\n",
        "#@markdown 關鍵字擴散是用 政府研究資訊網 (grb.gov.tw) 的民國 105-109年公開資料做為資料集，目前只支援中文字關鍵字的擴展\n",
        "\n",
        "import requests\n",
        "\n",
        "print(\"資料載入中 .......\")\n",
        "url=\"https://raw.githubusercontent.com/reic/colab_python/main/\"\n",
        "fnames=[\"GRB_105.txt\",\"GRB_106.txt\",\"GRB_107.txt\",\"GRB_108.txt\",\"GRB_109.txt\"]\n",
        "#@markdown 關鍵字\n",
        "print(f\"{len(fnames)} 個資料源\")\n",
        "inputword = \"\\u7269\\u806F\\u7DB2\" #@param {type:\"string\"}\n",
        "#@markdown 列出的擴展關鍵字之數量\n",
        "extendNumber = 15 #@param {type:\"number\"}\n",
        "content=[]\n",
        "\n",
        "for fname in fnames:\n",
        "  # print(f\"從 Github 下載資料檔 {fname}\")\n",
        "  reg=requests.get(f\"{url}{fname}\")\n",
        "  content.extend(reg.text.splitlines())\n",
        "print(\"=== 資料載入完成 \".ljust(100,\"=\"))\n",
        "print(\"\")\n",
        "projectData = {}\n",
        "for itm in content:\n",
        "  # print(itm)\n",
        "  [id, keyword] = itm.split('\\t')\n",
        "  projectData[id] = keyword.split(\"：\")\n",
        "# print(projectData)\n",
        "\n",
        "inputword = inputword.lower()\n",
        "keywords = []\n",
        "projects = []\n",
        "for itm in content:\n",
        "    if inputword in itm:\n",
        "        pro = itm.split(\"\\t\")\n",
        "        projects.append(pro[0])\n",
        "        getkeywordset = pro[1].split(\"：\")\n",
        "        keywords.extend(getkeywordset)\n",
        "\n",
        "# # print(len(keywords))\n",
        "# # print(len(list(set(keywords))))\n",
        "# # print(len(projects))\n",
        "# # print(projectData[projects[0]])\n",
        "uniqueKeywordCount = dict.fromkeys(keywords, 0)\n",
        "for itm in uniqueKeywordCount:\n",
        "    uniqueKeywordCount[itm] = keywords.count(itm)\n",
        "\n",
        "keywordExtend=[]\n",
        "for key,value in uniqueKeywordCount.items():\n",
        "  # if int(value) <2:    \n",
        "  #   continue\n",
        "  #   print(value)\n",
        "  keywordExtend.append([key,value])\n",
        "keywordExtend.sort(key=lambda x:x[1],reverse=True)\n",
        "\n",
        "if extendNumber > len(keywordExtend):\n",
        "  extendNumber=len(keywordExtend)\n",
        "\n",
        "for itm in keywordExtend[:extendNumber]:\n",
        "  print(f\"{itm[0]:15s}\\t{itm[1]}\")\n",
        "\n",
        "\n"
      ],
      "execution_count": 12,
      "outputs": [
        {
          "output_type": "stream",
          "text": [
            "資料載入中 .......\n",
            "5 個資料源\n",
            "=== 資料載入完成 =========================================================================================\n",
            "\n",
            "物聯網            \t871\n",
            "人工智慧           \t115\n",
            "深度學習           \t71\n",
            "大數據            \t55\n",
            "機器學習           \t49\n",
            "區塊鏈            \t33\n",
            "雲端運算           \t31\n",
            "大數據分析          \t28\n",
            "智慧物聯網          \t24\n",
            "感測器            \t23\n",
            "影像辨識           \t22\n",
            "邊緣運算           \t21\n",
            "穿戴式裝置          \t20\n",
            "工業物聯網          \t19\n",
            "智慧城市           \t19\n"
          ],
          "name": "stdout"
        }
      ]
    }
  ]
}