{
  "nbformat": 4,
  "nbformat_minor": 0,
  "metadata": {
    "colab": {
      "name": "技術議題關鍵字擴展.ipynb",
      "provenance": [],
      "collapsed_sections": [],
      "authorship_tag": "ABX9TyPJ/fNDsMJFtBLYK4LEFQmu",
      "include_colab_link": true
    },
    "kernelspec": {
      "name": "python3",
      "display_name": "Python 3"
    },
    "language_info": {
      "name": "python"
    }
  },
  "cells": [
    {
      "cell_type": "markdown",
      "metadata": {
        "id": "view-in-github",
        "colab_type": "text"
      },
      "source": [
        "<a href=\"https://colab.research.google.com/github/reic/colab_python/blob/main/%E6%8A%80%E8%A1%93%E8%AD%B0%E9%A1%8C%E9%97%9C%E9%8D%B5%E5%AD%97%E6%93%B4%E5%B1%95.ipynb\" target=\"_parent\"><img src=\"https://colab.research.google.com/assets/colab-badge.svg\" alt=\"Open In Colab\"/></a>"
      ]
    },
    {
      "cell_type": "code",
      "metadata": {
        "id": "hQN-VXYIGSKX",
        "cellView": "form"
      },
      "source": [
        "#@title 關鍵字擴展\n",
        "#@markdown 關鍵字擴散是用 政府研究資訊網 (grb.gov.tw) 的民國 105-109年公開資料做為資料集，目前只支援中文字關鍵字的擴展\n",
        "\n",
        "import requests\n",
        "\n",
        "url=\"https://raw.githubusercontent.com/reic/colab_python/main/\"\n",
        "fnames=[\"GRB_105.txt\",\"GRB_106.txt\",\"GRB_107.txt\",\"GRB_108.txt\",\"GRB_109.txt\"]\n",
        "#@markdown 關鍵字\n",
        "inputword = \"b5g\" #@param {type:\"string\"}\n",
        "#@markdown 例出的擴展關鍵字之數量\n",
        "extendNumber = 20 #@param {type:\"number\"}\n",
        "content=[]\n",
        "\n",
        "for fname in fnames:\n",
        "  print(f\"從 Github 下載資料檔 {fname}\")\n",
        "  reg=requests.get(f\"{url}{fname}\")\n",
        "  content.extend(reg.text.splitlines())\n",
        "print(\"=== 下載完成 \".ljust(100,\"=\"))\n",
        "print(\"\")\n",
        "projectData = {}\n",
        "for itm in content:\n",
        "  # print(itm)\n",
        "  [id, keyword] = itm.split('\\t')\n",
        "  projectData[id] = keyword.split(\"：\")\n",
        "# print(projectData)\n",
        "\n",
        "inputword = inputword.lower()\n",
        "keywords = []\n",
        "projects = []\n",
        "for itm in content:\n",
        "    if inputword in itm:\n",
        "        pro = itm.split(\"\\t\")\n",
        "        projects.append(pro[0])\n",
        "        getkeywordset = pro[1].split(\"：\")\n",
        "        keywords.extend(getkeywordset)\n",
        "\n",
        "# # print(len(keywords))\n",
        "# # print(len(list(set(keywords))))\n",
        "# # print(len(projects))\n",
        "# # print(projectData[projects[0]])\n",
        "uniqueKeywordCount = dict.fromkeys(keywords, 0)\n",
        "for itm in uniqueKeywordCount:\n",
        "    uniqueKeywordCount[itm] = keywords.count(itm)\n",
        "\n",
        "keywordExtend=[]\n",
        "for key,value in uniqueKeywordCount.items():\n",
        "  # if int(value) <2:    \n",
        "  #   continue\n",
        "  #   print(value)\n",
        "  keywordExtend.append([key,value])\n",
        "keywordExtend.sort(key=lambda x:x[1],reverse=True)\n",
        "\n",
        "for itm in keywordExtend[:extendNumber]:\n",
        "  print(f\"{itm[0]:15s}\\t{itm[1]}\")\n",
        "\n",
        "\n"
      ],
      "execution_count": null,
      "outputs": []
    }
  ]
}