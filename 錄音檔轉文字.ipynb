{
  "nbformat": 4,
  "nbformat_minor": 0,
  "metadata": {
    "colab": {
      "name": "錄音檔轉文字",
      "provenance": [],
      "collapsed_sections": [],
      "toc_visible": true,
      "mount_file_id": "1SPRxSXsaErSrZ4riQ-1sxHankJ3Hlc9X",
      "authorship_tag": "ABX9TyNfgVgeuZkGNLgp8dSSw+j3",
      "include_colab_link": true
    },
    "kernelspec": {
      "display_name": "Python 3",
      "name": "python3"
    }
  },
  "cells": [
    {
      "cell_type": "markdown",
      "metadata": {
        "id": "view-in-github",
        "colab_type": "text"
      },
      "source": [
        "<a href=\"https://colab.research.google.com/github/reic/colab_python/blob/main/%E9%8C%84%E9%9F%B3%E6%AA%94%E8%BD%89%E6%96%87%E5%AD%97.ipynb\" target=\"_parent\"><img src=\"https://colab.research.google.com/assets/colab-badge.svg\" alt=\"Open In Colab\"/></a>"
      ]
    },
    {
      "cell_type": "markdown",
      "metadata": {
        "id": "sfatoyUwFvio"
      },
      "source": [
        "# 語音轉文字小工具\n",
        "\n",
        "此工具採用 Python 開發，可應用於<font color=\"red\">訪談錄音檔</font>轉文字、<font color=\"red\">影片的字幕</font>字幕生成，及其它相關應用。\n",
        "\n",
        "因為透過Google Colab 平台、Google的語音轉文字工具，完成語音轉文字的工作。只需要有 Google 帳號，即可具備執行此程式的環境，輔以簡單的設定，不會程式的使用者也可以完成相關的工作。\n",
        "\n",
        "by 瑞課\n",
        "\n"
      ]
    },
    {
      "cell_type": "markdown",
      "metadata": {
        "id": "FQPGQ9dlTlNI"
      },
      "source": [
        "## 1.安裝需求套件\r\n",
        "* 文字轉語音套件\r\n",
        "* 繁簡轉換套件"
      ]
    },
    {
      "cell_type": "code",
      "metadata": {
        "id": "zzDanp7lDmSC"
      },
      "source": [
        "# 執行安裝套件\r\n",
        "!pip3 install SpeechRecognition\r\n",
        "!pip install iNLP"
      ],
      "execution_count": null,
      "outputs": []
    },
    {
      "cell_type": "markdown",
      "metadata": {
        "id": "YHUEj0k9HhSc"
      },
      "source": [
        "## 2.掛載 google 雲端硬碟\r\n",
        "\r\n",
        "請點選左側的<font color=\"#0000dd\"> **檔案** </font>圖示，掛載 Google Drive 雲端硬碟"
      ]
    },
    {
      "cell_type": "code",
      "metadata": {
        "id": "nn9tQeSLF8oF"
      },
      "source": [
        "from google.colab import drive\r\n",
        "drive.mount('/content/drive')"
      ],
      "execution_count": null,
      "outputs": []
    },
    {
      "cell_type": "markdown",
      "metadata": {
        "id": "AoJDchjgHxl8"
      },
      "source": [
        "## 3.設定環境變數與函數預載\n",
        "\n",
        "1. 取得 mp3 檔路徑\n",
        "2. 設定 wav 切割檔的輸出路徑\n",
        "3. 設定 txt 的輸出路徑\n",
        "4. 若 wav, txt 的目錄存在，是否移除重建。預設：是y"
      ]
    },
    {
      "cell_type": "code",
      "metadata": {
        "id": "R4kZJGQdHdjy",
        "cellView": "form"
      },
      "source": [
        "#@title 基礎環境設定\n",
        "import os\n",
        "import shutil\n",
        "import speech_recognition as sr\n",
        "import wave\n",
        "import json\n",
        "import numpy as np\n",
        "from inlp.convert import chinese\n",
        " \n",
        "#@markdown 錄音檔的位置\n",
        "mp3Name= '/content/drive/MyDrive/\\u524D\\u77BB\\u5C0F\\u7D44/52_\\u6C7A\\u7B56\\u652F\\u63F4/\\u7FA4\\u7D44\\u5DE5\\u4F5C\\u6703\\u8B70/20210125/\\u6703\\u8B70\\u8A18\\u9304/210125_001.MP3' #@param {type:\"string\"}\n",
        "\n",
        "#@markdown 設定錄音檔的分割大小，單位：秒。時間太長，轉文字的效果會較差。\n",
        "CutTimeDef = 20 #@param {type:\"integer\"} \n",
        "#@markdown 設定 wav 切割檔的暫存目錄\n",
        "wav_path='wav' #@param {type:\"string\"}\n",
        "#@markdown 設定文字檔暫存目錄。將特定秒數(CutTimeDef)的音檔轉為文字\n",
        "txt_path='txt' #@param {type:\"string\"}\n",
        " \n",
        "workpath=os.path.dirname(mp3Name)\n",
        "mp3Name=os.path.basename(mp3Name)\n",
        "FileName = mp3Name[:-4]+\".wav\"\n",
        "os.chdir(workpath)\n",
        "#@markdown 若 wav_path, txt_path 目錄存在是否移除重建\n",
        "chk='y' #@param [\"y\",\"n\"]\n",
        " \n",
        "def reset_dir(path):\n",
        "    try:\n",
        "        os.mkdir(path)\n",
        "    except Exception:\n",
        "        shutil.rmtree(path)\n",
        "        os.mkdir(path)\n",
        " \n",
        "def CutFile(FileName, target_path):\n",
        " \n",
        "    # print(\"CutFile File Name is \", FileName)\n",
        "    f = wave.open(FileName, \"rb\")\n",
        "    params = f.getparams()    \n",
        "    nchannels, sampwidth, framerate, nframes = params[:4]\n",
        "    CutFrameNum = framerate * CutTimeDef\n",
        "    # 讀取格式資訊\n",
        "    # 一次性返回所有的WAV檔案的格式資訊，它返回的是一個組元(tuple)：聲道數, 量化位數（byte    單位）, 採\n",
        "    # 樣頻率, 取樣點數, 壓縮型別, 壓縮型別的描述。wave模組只支援非壓縮的資料，因此可以忽略最後兩個資訊\n",
        " \n",
        "    # print(\"CutFrameNum=%d\" % (CutFrameNum))\n",
        "    # print(\"nchannels=%d\" % (nchannels))\n",
        "    # print(\"sampwidth=%d\" % (sampwidth))\n",
        "    # print(\"framerate=%d\" % (framerate))\n",
        "    # print(\"nframes=%d\" % (nframes))\n",
        " \n",
        "    str_data = f.readframes(nframes)\n",
        "    f.close()  # 將波形資料轉換成陣列\n",
        "    # Cutnum =nframes/framerate/CutTimeDef\n",
        "    # 需要根據聲道數和量化單位，將讀取的二進位制資料轉換為一個可以計算的陣列\n",
        "    wave_data = np.frombuffer(str_data, dtype=np.short)\n",
        "    wave_data.shape = -1, 2\n",
        "    wave_data = wave_data.T\n",
        "    temp_data = wave_data.T\n",
        "    # StepNum = int(nframes/200)\n",
        "    StepNum = CutFrameNum\n",
        "    StepTotalNum = 0\n",
        "    haha = 0\n",
        "    while StepTotalNum < nframes:\n",
        "        # for j in range(int(Cutnum)):\n",
        "        # print(\"Stemp=%d\" % (haha))\n",
        "        SaveFile = \"%s-%03d.wav\" % (FileName[:-4], (haha+1))\n",
        "        # print(FileName)\n",
        "        if haha % 3==0:\n",
        "          print(\"*\",end='')\n",
        "        temp_dataTemp = temp_data[StepNum * (haha):StepNum * (haha + 1)]\n",
        "        haha = haha + 1\n",
        "        StepTotalNum = haha * StepNum\n",
        "        temp_dataTemp.shape = 1, -1\n",
        "        temp_dataTemp = temp_dataTemp.astype(np.short)  # 開啟WAV文件\n",
        "        f = wave.open(target_path+\"/\" + SaveFile, \"wb\")\n",
        "        # 配置聲道數、量化位數和取樣頻率\n",
        "        f.setnchannels(nchannels)\n",
        "        f.setsampwidth(sampwidth)\n",
        "        f.setframerate(framerate)\n",
        "        # 將wav_data轉換為二進位制資料寫入檔案\n",
        "        f.writeframes(temp_dataTemp.tobytes())\n",
        "        f.close()\n",
        " \n",
        " \n",
        "def VoiceToText(path, files, target_path):\n",
        "  files.sort()\n",
        "  for file in files:\n",
        "    txt_file = \"%s/%s.txt\" % (target_path, file[:-4])\n",
        "    if os.path.isfile(txt_file):\n",
        "      continue\n",
        "    with open(\"%s/%s.txt\" % (target_path, file[:-4]), \"w\", encoding=\"utf-8\") as f:\n",
        "      f.write(\"%s:\\n\" % file)\n",
        "      r = sr.Recognizer()  # 預設辨識英文\n",
        "      with sr.WavFile(path+\"/\"+file) as source:  # 讀取wav檔\n",
        "        audio = r.record(source)\n",
        "      try:\n",
        "        text = r.recognize_google(audio,language = \"zh-tw\")\n",
        "        text = chinese.s2t(text)\n",
        "        # r.recognize_google(audio)\n",
        "        print(file)\n",
        "        if len(text) == 0:\n",
        "          print(\"===無資料==\")\n",
        "          continue\n",
        " \n",
        "        print(text)\n",
        "        f.write(\"%s \\n\\n\" % text)\n",
        "        if file == files[-1]:\n",
        "            print(\"結束翻譯\")\n",
        "      except sr.RequestError as e:\n",
        "        print(\"無法翻譯{0}\".format(e))\n",
        "        # 兩個 except 是當語音辨識不出來的時候 防呆用的\n",
        "        # 使用Google的服務\n",
        "      except LookupError:\n",
        "        print(\"Could not understand audio\")\n",
        "      except sr.UnknownValueError:\n",
        "        print(\"Error: 無法識別 Audio\")\n",
        " \n",
        " \n",
        "def texts_to_one(path, target_file):\n",
        "    files = os.listdir(path)\n",
        "    files.sort()\n",
        "    files = [path+\"/\" + f for f in files if f.endswith(\".txt\")]\n",
        "    with open(target_file, \"w\", encoding=\"utf-8\") as f:\n",
        "        for file in files:\n",
        "            with open(file, \"r\", encoding='utf-8') as f2:\n",
        "                f.write(f2.read())\n",
        "    print(\"完成合併, 檔案位於 %s \" % target_file)\n",
        " \n",
        " \n",
        "def texts2otr(path, target_file, audio_name, timeperiod):\n",
        "    template = '''<p><span class=\"timestamp\" data-timestamp=\"{}.000000\">{}</span>{}</p><p><br/></p>\n",
        "    '''\n",
        "    files = os.listdir(path)\n",
        "    files.sort()\n",
        "    content = ''\n",
        "    files = [path+\"/\" + f for f in files if f.endswith(\".txt\")]\n",
        "    with open(target_file, \"w\", encoding=\"utf-8\") as f:\n",
        " \n",
        "        for file in files:\n",
        "            with open(file, \"r\", encoding=\"utf-8\") as f2:\n",
        "                txt = f2.read().split(\"\\n\")\n",
        "                if len(txt) < 2:\n",
        "                    continue\n",
        "                times = int(txt[0].split(\"-\")[1][:-5])*30\n",
        "                secs, mins = times % 60, (times//60) % 60\n",
        "                hours = (times//60)//60\n",
        "                timeF = \"{:02d}:{:02d}:{:02d}\".format(hours, mins, secs)\n",
        "                content += template.format(times, timeF, txt[1])\n",
        " \n",
        "        output = {\"text\": content, \"media\": audio_name,\n",
        "                  \"media-time\": timeperiod}\n",
        "        f.write(json.dumps(output, ensure_ascii=False))"
      ],
      "execution_count": null,
      "outputs": []
    },
    {
      "cell_type": "markdown",
      "metadata": {
        "id": "RIaMvxr7Jz_W"
      },
      "source": [
        "## 4.音頻轉換與切割\r\n",
        "\r\n",
        "1. 將 mp3 轉成 wav 檔\r\n",
        "2. 將音頻切割，並置於 wav_path 目錄下\r\n",
        "3. 建立 txt_path ，做為語音判識的輸出檔\r\n",
        "\r\n",
        "\r\n"
      ]
    },
    {
      "cell_type": "code",
      "metadata": {
        "id": "rpnUIqKBKBnQ",
        "cellView": "form"
      },
      "source": [
        "#@title 執行音頻轉換與分割\n",
        " \n",
        "print(\" mp3 轉 wav 檔 \".center(100,'=')) \n",
        "os.system('{} -i {} {}'.format(\"ffmpeg\",mp3Name, FileName))\n",
        "print(\" Wav 檔名為 {} \".format(FileName).center(96))\n",
        "if chk == 'y':\n",
        "    reset_dir(wav_path)\n",
        "    reset_dir(txt_path)\n",
        "# # Cut Wave Setting\n",
        "\n",
        "print(\" 音頻以每{}秒分割 \".format(CutTimeDef).center(94,'='))\n",
        "CutFile(FileName, wav_path)\n",
        "print(\"\")\n",
        "print(\" 完成分割 \".center(100,'-'))"
      ],
      "execution_count": null,
      "outputs": []
    },
    {
      "cell_type": "markdown",
      "metadata": {
        "id": "msvFQZENdwGZ"
      },
      "source": [
        "## 5.文字轉語音"
      ]
    },
    {
      "cell_type": "code",
      "metadata": {
        "id": "rUh0kL6hC6yd",
        "cellView": "form"
      },
      "source": [
        "#@title 執行語音轉文字 (需要耗費不少時間)\n",
        "#@\\\n",
        "files = os.listdir(wav_path)\n",
        "VoiceToText(wav_path, files, txt_path)\n",
        " \n",
        "target_txtfile = \"{}.txt\".format(FileName[:-4])\n",
        "texts_to_one(txt_path, target_txtfile)\n",
        "otr_file = \"{}.otr\".format(FileName[:-4])\n",
        "with wave.open(FileName, \"rb\") as f:\n",
        "    params = f.getparams()\n",
        "texts2otr(txt_path, otr_file, FileName, params.nframes)"
      ],
      "execution_count": null,
      "outputs": []
    },
    {
      "cell_type": "code",
      "metadata": {
        "cellView": "form",
        "id": "Rqlix8f26WTs"
      },
      "source": [
        "#@title 列出合併的文字檔之檔名\r\n",
        "#@markdown 將會形成 txt 和 [oTranscribe](https://otranscribe.com/) 網站使用的 otr 格式。輸出檔將置於上傳錄音檔同目錄。\r\n",
        "\r\n",
        "#@markdown 若已知道檔名，不需要執行此區塊。\r\n",
        "print(\" 輸出檔名 \".center(100,'='))\r\n",
        "print(target_txtfile)\r\n",
        "print(otr_txtfile)"
      ],
      "execution_count": null,
      "outputs": []
    },
    {
      "cell_type": "markdown",
      "metadata": {
        "id": "nFJ79zpxDuMt"
      },
      "source": [
        "## 6.暫存檔、暫目錄清理"
      ]
    },
    {
      "cell_type": "code",
      "metadata": {
        "id": "XWG0Z-L-D6AK",
        "cellView": "form"
      },
      "source": [
        "#@title 暫存目錄、暫存檔清理，並選擇是否中斷Google 雲端硬碟\r\n",
        "#@markdown <font color=\"#0000dd\">wav_path, txt_path</font> 目錄存在是否移除重建\r\n",
        "remove_tmp='y' #@param [\"y\",\"n\"]\r\n",
        "\r\n",
        "#@markdown <font color=\"#0000dd\">Google 雲端硬碟</font> 連結是否中斷(預設:n)\r\n",
        "umount_google='n' #@param [\"y\",\"n\"]\r\n",
        "if remove_tmp=='y':\r\n",
        "  shutil.rmtree(wav_path)\r\n",
        "  shutil.rmtree(txt_path)\r\n",
        "  os.remove(FileName)\r\n",
        "if umount_google=='y':\r\n",
        "  drive.flush_and_unmount()"
      ],
      "execution_count": null,
      "outputs": []
    }
  ]
}