{
  "cells": [
    {
      "cell_type": "markdown",
      "metadata": {
        "id": "view-in-github",
        "colab_type": "text"
      },
      "source": [
        "<a href=\"https://colab.research.google.com/github/reic/colab_python/blob/main/%E9%8C%84%E9%9F%B3%E6%AA%94%E8%BD%89%E6%96%87%E5%AD%97.ipynb\" target=\"_parent\"><img src=\"https://colab.research.google.com/assets/colab-badge.svg\" alt=\"Open In Colab\"/></a>"
      ]
    },
    {
      "cell_type": "markdown",
      "metadata": {
        "id": "sfatoyUwFvio"
      },
      "source": [
        "# 語音轉文字小工具\n",
        "\n",
        "此工具採用 Python 開發，可應用於**訪談錄音檔**轉文字、**影片的字幕**的生成，及其它相關應用。\n",
        "\n",
        "因為透過Google Colab 平台、Google的語音轉文字工具，完成語音轉文字的工作。只需要有 Google 帳號，即可具備執行此程式的環境，輔以簡單的設定，不會程式的使用者也可以完成相關的工作。\n",
        "\n",
        "by 瑞課\n",
        "\n",
        "== 更新記錄 ===\n",
        "- 2023/3/15 調整修改未完全的函式錯誤。 謝謝「左埕安」的回報\n",
        "- 2021/6/1 修正檔名有空白時，無法轉成 wav 和切割問題\n",
        "- 2021/5/12 增加不同翻譯語言變數的設定，並於檔案中提供語系參考表。 謝謝 chin ho Lau 的回饋。\n",
        "- 2021/5/9 修正因檔名無法產生 OTR 檔的問題，謝謝「彩虹小馬」的回饋\n",
        "- 2021/5/3 增加多執行緖的方法，縮短翻譯的時間\n",
        "\n",
        "\n",
        "\n"
      ]
    },
    {
      "cell_type": "markdown",
      "metadata": {
        "id": "FQPGQ9dlTlNI"
      },
      "source": [
        "## 1.安裝需求套件\n",
        "* 文字轉語音套件\n",
        "* 繁簡轉換套件"
      ]
    },
    {
      "cell_type": "code",
      "execution_count": null,
      "metadata": {
        "cellView": "form",
        "id": "zzDanp7lDmSC"
      },
      "outputs": [],
      "source": [
        "#@title 安裝運作所需套件\n",
        "!pip3 install SpeechRecognition\n",
        "!pip3 install iNLP"
      ]
    },
    {
      "cell_type": "markdown",
      "metadata": {
        "id": "YHUEj0k9HhSc"
      },
      "source": [
        "## 2.掛載 google 雲端硬碟\n",
        "\n",
        "可點選左側的 **檔案** 圖示，掛載 Google Drive 雲端硬碟，或執行程式"
      ]
    },
    {
      "cell_type": "code",
      "execution_count": null,
      "metadata": {
        "cellView": "form",
        "id": "nn9tQeSLF8oF"
      },
      "outputs": [],
      "source": [
        "#@title 掛載 Google雲端硬碟\n",
        "from google.colab import drive\n",
        "drive.mount('/content/drive')"
      ]
    },
    {
      "cell_type": "markdown",
      "metadata": {
        "id": "AoJDchjgHxl8"
      },
      "source": [
        "## 3.設定環境變數與函數預載\n",
        "\n",
        "需給予**錄音檔**的路徑、 wav 切割檔的暫存目錄、txt 輸出檔的暫存目錄。請確定在**錄音檔**目錄下，沒有相同名稱目錄、或相同名稱目錄下沒有重要的資料。\n",
        "\n",
        "若要自行建立目錄者，請將 **chk** 設定為 n\n"
      ]
    },
    {
      "cell_type": "code",
      "execution_count": 5,
      "metadata": {
        "id": "R4kZJGQdHdjy",
        "cellView": "form"
      },
      "outputs": [],
      "source": [
        "#@title 基礎環境設定\n",
        "import os\n",
        "import shutil\n",
        "import speech_recognition as sr\n",
        "import concurrent.futures\n",
        "import wave\n",
        "import json\n",
        "import numpy as np\n",
        "from google.colab import files\n",
        "from inlp.convert import chinese\n",
        "\n",
        " \n",
        "#@markdown 錄音檔的位置\n",
        "mp3Name= '/content/drive/MyDrive/tmp/123.mp3' #@param {type:\"string\"}\n",
        " \n",
        "#@markdown 設定錄音檔的分割大小，單位：秒。時間太長，轉文字的效果會較差。\n",
        "CutTimeDef = 20 #@param {type:\"integer\"} \n",
        "#@markdown 設定 wav 切割檔的暫存目錄\n",
        "wav_path='wav' #@param {type:\"string\"}\n",
        "#@markdown 設定文字檔暫存目錄。將特定秒數(CutTimeDef)的音檔轉為文字\n",
        "txt_path='txt' #@param {type:\"string\"}\n",
        "#@markdown 執行緖的數量\n",
        "thread_num = 10 #@param {type:\"number\"}\n",
        "\n",
        "workpath=os.path.dirname(mp3Name)\n",
        "mp3Name=os.path.basename(mp3Name)\n",
        "FileName = mp3Name[:mp3Name.rfind(\".\")]+\".wav\"\n",
        "os.chdir(workpath)\n",
        "#@markdown 若 wav_path, txt_path 目錄存在是否移除重建\n",
        "chk='y' #@param [\"y\",\"n\"]\n",
        " \n",
        "def reset_dir(path):\n",
        "    try:\n",
        "        os.mkdir(path)\n",
        "    except Exception:\n",
        "      if chk==\"y\":\n",
        "        shutil.rmtree(path)\n",
        "        os.mkdir(path)\n",
        " \n",
        "def CutFile(FileName, target_path):\n",
        " \n",
        "    # print(\"CutFile File Name is \", FileName)\n",
        "    f = wave.open(FileName, \"rb\")\n",
        "    params = f.getparams()    \n",
        "    nchannels, sampwidth, framerate, nframes = params[:4]\n",
        "    CutFrameNum = framerate * CutTimeDef\n",
        "    # 讀取格式資訊\n",
        "    # 一次性返回所有的WAV檔案的格式資訊，它返回的是一個組元(tuple)：聲道數, 量化位數（byte    單位）, 採\n",
        "    # 樣頻率, 取樣點數, 壓縮型別, 壓縮型別的描述。wave模組只支援非壓縮的資料，因此可以忽略最後兩個資訊\n",
        " \n",
        "    # print(\"CutFrameNum=%d\" % (CutFrameNum))\n",
        "    # print(\"nchannels=%d\" % (nchannels))\n",
        "    # print(\"sampwidth=%d\" % (sampwidth))\n",
        "    # print(\"framerate=%d\" % (framerate))\n",
        "    # print(\"nframes=%d\" % (nframes))\n",
        " \n",
        "    str_data = f.readframes(nframes)\n",
        "    f.close()  # 將波形資料轉換成陣列\n",
        "    # Cutnum =nframes/framerate/CutTimeDef\n",
        "    # 需要根據聲道數和量化單位，將讀取的二進位制資料轉換為一個可以計算的陣列\n",
        "    wave_data = np.frombuffer(str_data, dtype=np.short)\n",
        "    wave_data.shape = -1, 2\n",
        "    wave_data = wave_data.T\n",
        "    temp_data = wave_data.T\n",
        "    # StepNum = int(nframes/200)\n",
        "    StepNum = CutFrameNum\n",
        "    StepTotalNum = 0\n",
        "    haha = 0\n",
        "    while StepTotalNum < nframes:\n",
        "        # for j in range(int(Cutnum)):\n",
        "        # print(\"Stemp=%d\" % (haha))\n",
        "        SaveFile = \"%s-%03d.wav\" % (FileName[:-4], (haha+1))\n",
        "        # print(FileName)\n",
        "        if haha % 3==0:\n",
        "          print(\"*\",end='')\n",
        "        temp_dataTemp = temp_data[StepNum * (haha):StepNum * (haha + 1)]\n",
        "        haha = haha + 1\n",
        "        StepTotalNum = haha * StepNum\n",
        "        temp_dataTemp.shape = 1, -1\n",
        "        temp_dataTemp = temp_dataTemp.astype(np.short)  # 開啟WAV文件\n",
        "        f = wave.open(target_path+\"/\" + SaveFile, \"wb\")\n",
        "        # 配置聲道數、量化位數和取樣頻率\n",
        "        f.setnchannels(nchannels)\n",
        "        f.setsampwidth(sampwidth)\n",
        "        f.setframerate(framerate)\n",
        "        # 將wav_data轉換為二進位制資料寫入檔案\n",
        "        f.writeframes(temp_dataTemp.tobytes())\n",
        "        f.close()\n",
        " \n",
        " \n",
        "# def VoiceToText(path, files, target_path):\n",
        "#   files.sort()\n",
        "#   for file in files:\n",
        "#     txt_file = \"%s/%s.txt\" % (target_path, file[:-4])\n",
        "#     if os.path.isfile(txt_file):\n",
        "#       continue\n",
        "#     with open(\"%s/%s.txt\" % (target_path, file[:-4]), \"w\", encoding=\"utf-8\") as f:\n",
        "#       f.write(\"%s:\\n\" % file)\n",
        "#       r = sr.Recognizer()  # 預設辨識英文\n",
        "#       with sr.WavFile(path+\"/\"+file) as source:  # 讀取wav檔\n",
        "#         audio = r.record(source)\n",
        "#       try:\n",
        "#         text = r.recognize_google(audio,language = \"zh-TW\")\n",
        "#         text = chinese.s2t(text)\n",
        "#         # r.recognize_google(audio)\n",
        "#         print(file)\n",
        "#         if len(text) == 0:\n",
        "#           print(\"===無資料==\")\n",
        "#           continue\n",
        " \n",
        "#         print(text)\n",
        "#         f.write(\"%s \\n\\n\" % text)\n",
        "#         if file == files[-1]:\n",
        "#             print(\"結束翻譯\")\n",
        "#       except sr.RequestError as e:\n",
        "#         print(\"無法翻譯{0}\".format(e))\n",
        "#         # 兩個 except 是當語音辨識不出來的時候 防呆用的\n",
        "#         # 使用Google的服務\n",
        "#       except LookupError:\n",
        "#         print(\"Could not understand audio\")\n",
        "#       except sr.UnknownValueError:\n",
        "#         print(\"Error: 無法識別 Audio\")\n",
        " \n",
        "  \n",
        "\n",
        " \n",
        "def texts_to_one(path, target_file):\n",
        "    files = os.listdir(path)\n",
        "    files.sort()\n",
        "    files = [path+\"/\" + f for f in files if f.endswith(\".txt\")]\n",
        "    with open(target_file, \"w\", encoding=\"utf-8\") as f:\n",
        "        for file in files:\n",
        "            with open(file, \"r\", encoding='utf-8') as f2:\n",
        "                f.write(f2.read())\n",
        "    print(\"完成合併, 檔案位於 %s \" % target_file)\n",
        " \n",
        " \n",
        "def texts2otr(path, target_file, audio_name, timeperiod):\n",
        "    template = '''<p><span class=\"timestamp\" data-timestamp=\"{}.000000\">{}</span>{}</p><p><br/></p>\n",
        "    '''\n",
        "    files = os.listdir(path)\n",
        "    files.sort()\n",
        "    content = ''\n",
        "    files = [path+\"/\" + f for f in files if f.endswith(\".txt\")]\n",
        "    with open(target_file, \"w\", encoding=\"utf-8\") as f:\n",
        " \n",
        "        for file in files:\n",
        "            with open(file, \"r\", encoding=\"utf-8\") as f2:\n",
        "                txt = f2.read().split(\"\\n\")\n",
        "                if len(txt) < 2:\n",
        "                    continue\n",
        "                pos=txt[0].rfind(\".\")\n",
        "                time=int(txt[0][pos-3:pos])\n",
        "                # times = (int(txt[0].split(\"-\")[1][:-5])-1)*CutTimeDef\n",
        "                times=(time-1)*CutTimeDef\n",
        "                secs, mins = times % 60, (times//60) % 60\n",
        "                hours = (times//60)//60\n",
        "                timeF = \"{:02d}:{:02d}:{:02d}\".format(hours, mins, secs)\n",
        "                content += template.format(times, timeF, txt[1])\n",
        " \n",
        "        output = {\"text\": content, \"media\": audio_name,\n",
        "                  \"media-time\": timeperiod}\n",
        "        f.write(json.dumps(output, ensure_ascii=False))\n",
        "    print(\"完成合併, otr 檔案位於 %s \" % target_file)\n",
        "    \n",
        "    #files.download(target_file)"
      ]
    },
    {
      "cell_type": "markdown",
      "metadata": {
        "id": "RIaMvxr7Jz_W"
      },
      "source": [
        "## 4.音頻轉換與切割\n",
        "\n",
        "1. 將 mp3 轉成 wav 檔\n",
        "2. 將音頻切割，並置於 wav_path 目錄下\n",
        "3. 建立 txt_path ，做為語音判識的輸出檔\n",
        "\n",
        "\n"
      ]
    },
    {
      "cell_type": "code",
      "execution_count": null,
      "metadata": {
        "cellView": "form",
        "id": "rpnUIqKBKBnQ"
      },
      "outputs": [],
      "source": [
        "#@title 執行音頻轉換與分割\n",
        " \n",
        "print(\" mp3 轉 wav 檔 \".center(100,'=')) \n",
        "os.system('{} -i \"{}\" \"{}\"'.format(\"ffmpeg\",mp3Name, FileName))\n",
        "print(\" Wav 檔名為 {} \".format(FileName).center(96))\n",
        "reset_dir(wav_path)\n",
        "reset_dir(txt_path)\n",
        "# # Cut Wave Setting\n",
        "\n",
        "print(\" 音頻以每{}秒分割 \".format(CutTimeDef).center(94,'='))\n",
        "CutFile(FileName, wav_path)\n",
        "print(\"\")\n",
        "print(\" 完成分割 \".center(100,'-'))"
      ]
    },
    {
      "cell_type": "markdown",
      "metadata": {
        "id": "msvFQZENdwGZ"
      },
      "source": [
        "## 5.文字轉語音"
      ]
    },
    {
      "cell_type": "code",
      "execution_count": null,
      "metadata": {
        "id": "rUh0kL6hC6yd",
        "cellView": "form"
      },
      "outputs": [],
      "source": [
        "#@title 執行語音轉文字 (需要耗費不少時間)\n",
        "#@markdown 指定翻譯的語言類型，如何設定語系請參考 [支援列表](https://cloud.google.com/speech-to-text/docs/languages)\n",
        "\n",
        "#@markdown 繁體中文：cmn-Hant-TW、英文： en-US\n",
        "voiceLanguage=\"en-GB\" #@param {type:\"string\"}\n",
        "# cmn-Hant-TW\n",
        "\n",
        "def VoiceToText_thread(file):\n",
        "  txt_file = \"%s/%s.txt\" % (txt_path, file[:-4])\n",
        "      \n",
        "  if os.path.isfile(txt_file):\n",
        "    return\n",
        "  with open(\"%s/%s.txt\" % (txt_path, file[:-4]), \"w\", encoding=\"utf-8\") as f:\n",
        "    f.write(\"%s:\\n\" % file)\n",
        "    r = sr.Recognizer()  # 預設辨識英文\n",
        "    with sr.WavFile(wav_path+\"/\"+file) as source:  # 讀取wav檔\n",
        "      audio = r.record(source)\n",
        "      # r.adjust_for_ambient_noise(source)\n",
        "      # audio = r.listen(source)\n",
        "    try:\n",
        "      text = r.recognize_google(audio,language = voiceLanguage)\n",
        "      text = chinese.s2t(text)\n",
        "      # r.recognize_google(audio)\n",
        "      \n",
        "      if len(text) == 0:\n",
        "        print(\"===無資料==\")\n",
        "        return\n",
        "\n",
        "      print(f\"{file}\\t{text}\")\n",
        "      f.write(\"%s \\n\\n\" % text)\n",
        "      if file == files[-1]:\n",
        "          print(\"結束翻譯\")\n",
        "    except sr.RequestError as e:\n",
        "      print(\"無法翻譯{0}\".format(e))\n",
        "      # 兩個 except 是當語音辨識不出來的時候 防呆用的\n",
        "      # 使用Google的服務\n",
        "    except LookupError:\n",
        "      print(\"Could not understand audio\")\n",
        "    except sr.UnknownValueError:\n",
        "      print(f\"Error: 無法識別 Audio\\t {file}\")\n",
        "  \n",
        "\n",
        "\n",
        "\n",
        "files = os.listdir(wav_path)\n",
        "files.sort()\n",
        "\n",
        "with concurrent.futures.ThreadPoolExecutor(max_workers=thread_num) as executor:\n",
        "    executor.map(VoiceToText_thread, files)\n",
        "  \n",
        "# VoiceToText(wav_path, files, txt_path)\n",
        " \n",
        "target_txtfile = \"{}.txt\".format(FileName[:-4])\n",
        "texts_to_one(txt_path, target_txtfile)\n",
        "otr_file = \"{}.otr\".format(FileName[:-4])\n",
        "with wave.open(FileName, \"rb\") as f:\n",
        "    params = f.getparams()\n",
        "texts2otr(txt_path, otr_file, FileName, params.nframes)"
      ]
    },
    {
      "cell_type": "code",
      "execution_count": null,
      "metadata": {
        "cellView": "form",
        "id": "Rqlix8f26WTs"
      },
      "outputs": [],
      "source": [
        "#@title 列出合併的文字檔之檔名\n",
        "#@markdown 將會形成 txt 和 [oTranscribe](https://otranscribe.com/) 網站使用的 otr 格式。輸出檔將置於上傳錄音檔同目錄。\n",
        "\n",
        "#@markdown 若已知道檔名，不需要執行此區塊。\n",
        "print(\" 輸出檔名 \".center(100,'='))\n",
        "print(target_txtfile)\n",
        "print(otr_file)"
      ]
    },
    {
      "cell_type": "markdown",
      "metadata": {
        "id": "nFJ79zpxDuMt"
      },
      "source": [
        "## 6.暫存檔、暫目錄清理"
      ]
    },
    {
      "cell_type": "code",
      "execution_count": null,
      "metadata": {
        "cellView": "form",
        "id": "XWG0Z-L-D6AK"
      },
      "outputs": [],
      "source": [
        "#@title 移除暫存檔、暫存目標\n",
        "\n",
        "#@markdown 將會移除 wav, txt 的目錄和 .wav 的暫存檔\n",
        "\n",
        "#@markdown 你可以透直接在 **Google雲端硬碟** 手動刪除，不透過程式移除\n",
        "\n",
        "\n",
        "shutil.rmtree(wav_path)\n",
        "shutil.rmtree(txt_path)\n",
        "os.remove(FileName)\n"
      ]
    },
    {
      "cell_type": "code",
      "execution_count": null,
      "metadata": {
        "cellView": "form",
        "id": "hO9kdxCwaadE"
      },
      "outputs": [],
      "source": [
        "#@title 卸載 **Google 雲端硬碟** \n",
        "drive.flush_and_unmount()"
      ]
    },
    {
      "cell_type": "markdown",
      "metadata": {
        "id": "YnV3vGD6gS-W"
      },
      "source": [
        "## 附錄一.Youtube字幕格式輸出"
      ]
    },
    {
      "cell_type": "code",
      "execution_count": null,
      "metadata": {
        "cellView": "form",
        "id": "D9M7MJS7a281"
      },
      "outputs": [],
      "source": [
        "#@title Youtube 字幕 (.srt) 格式輸出\n",
        "def get_timeF(times):\n",
        "  secs, mins = times % 60, (times//60) % 60\n",
        "  hours = (times//60)//60\n",
        "  timeF = \"{:02d}:{:02d}:{:02d}\".format(hours, mins, secs)\n",
        "  return timeF\n",
        "\n",
        "def texts2srt(path, target_file):\n",
        "    template = '''{}\\n{} --> {}\\n{}\\n\\n'''\n",
        "    files = os.listdir(path)\n",
        "    files.sort()\n",
        "    content = ''\n",
        "    counter = 0\n",
        "    files = [path+\"/\" + f for f in files if f.endswith(\".txt\")]\n",
        "    with open(target_file, \"w\", encoding=\"utf-8\") as f:\n",
        " \n",
        "        for file in files:\n",
        "            with open(file, \"r\", encoding=\"utf-8\") as f2:\n",
        "                txt = f2.read().split(\"\\n\")\n",
        "                if len(txt) < 2:\n",
        "                    continue\n",
        "                counter+=1\n",
        "                times = (int(txt[0].split(\"-\")[1][:-5])-1)*CutTimeDef\n",
        "                time_start=get_timeF(times)\n",
        "                time_end=get_timeF(times+CutTimeDef)\n",
        "                content += template.format(counter, time_start, time_end, txt[1])\n",
        "        f.write(content)\n",
        "    print(\"完成合併, srt 檔案位於 %s \" % target_file)\n",
        "\n",
        "srt_file = \"{}_srt.txt\".format(FileName[:-4])\n",
        "texts2srt(txt_path, srt_file)\n",
        "files.download(srt_file)"
      ]
    }
  ],
  "metadata": {
    "colab": {
      "provenance": [],
      "mount_file_id": "1SPRxSXsaErSrZ4riQ-1sxHankJ3Hlc9X",
      "authorship_tag": "ABX9TyPl39FwhpzFTfo3aWhCaC8B",
      "include_colab_link": true
    },
    "kernelspec": {
      "display_name": "Python 3",
      "name": "python3"
    }
  },
  "nbformat": 4,
  "nbformat_minor": 0
}