{
  "nbformat": 4,
  "nbformat_minor": 0,
  "metadata": {
    "colab": {
      "name": "錄音檔轉文字",
      "provenance": [],
      "collapsed_sections": [],
      "toc_visible": true,
      "authorship_tag": "ABX9TyPws25lN+amVN6qR+azMwqy",
      "include_colab_link": true
    },
    "kernelspec": {
      "name": "python3",
      "display_name": "Python 3"
    }
  },
  "cells": [
    {
      "cell_type": "markdown",
      "metadata": {
        "id": "view-in-github",
        "colab_type": "text"
      },
      "source": [
        "<a href=\"https://colab.research.google.com/github/reic/colab_python/blob/main/%E9%8C%84%E9%9F%B3%E6%AA%94%E8%BD%89%E6%96%87%E5%AD%97.ipynb\" target=\"_parent\"><img src=\"https://colab.research.google.com/assets/colab-badge.svg\" alt=\"Open In Colab\"/></a>"
      ]
    },
    {
      "cell_type": "markdown",
      "metadata": {
        "id": "sfatoyUwFvio"
      },
      "source": [
        "# 語音檔轉文字套件\n",
        "1. 安裝 SpeechRecognition 套件(若已安裝可跳過)\n",
        "2. 掛載 google drive\n",
        "3. 設定環境變數"
      ]
    },
    {
      "cell_type": "markdown",
      "metadata": {
        "id": "FQPGQ9dlTlNI"
      },
      "source": [
        "## 安裝語音轉文字套件"
      ]
    },
    {
      "cell_type": "code",
      "metadata": {
        "id": "zzDanp7lDmSC",
        "colab": {
          "base_uri": "https://localhost:8080/"
        },
        "outputId": "a0ad88cd-651b-43ae-c707-0a0531b688ed"
      },
      "source": [
        "# 執行安裝套件\r\n",
        "!pip3 install SpeechRecognition"
      ],
      "execution_count": 2,
      "outputs": [
        {
          "output_type": "stream",
          "text": [
            "Collecting SpeechRecognition\n",
            "\u001b[?25l  Downloading https://files.pythonhosted.org/packages/26/e1/7f5678cd94ec1234269d23756dbdaa4c8cfaed973412f88ae8adf7893a50/SpeechRecognition-3.8.1-py2.py3-none-any.whl (32.8MB)\n",
            "\u001b[K     |████████████████████████████████| 32.8MB 132kB/s \n",
            "\u001b[?25hInstalling collected packages: SpeechRecognition\n",
            "Successfully installed SpeechRecognition-3.8.1\n"
          ],
          "name": "stdout"
        }
      ]
    },
    {
      "cell_type": "markdown",
      "metadata": {
        "id": "YHUEj0k9HhSc"
      },
      "source": [
        "## 掛載 google 遠端硬碟"
      ]
    },
    {
      "cell_type": "code",
      "metadata": {
        "id": "HYN-uHLPHDor"
      },
      "source": [
        "# 掛載 Google drive\r\n",
        "from google.colab import drive\r\n",
        "drive.mount('/content/drive')"
      ],
      "execution_count": null,
      "outputs": []
    },
    {
      "cell_type": "markdown",
      "metadata": {
        "id": "AoJDchjgHxl8"
      },
      "source": [
        "## 設定環境變數\n",
        " \n",
        "1. 取得 mp3 檔路徑\n",
        "2. 設定 wav 切割檔的輸出路徑\n",
        "3. 設定 txt 的輸出路徑\n",
        "4. 若 wav, txt 的目錄存在，是否移除重建。預設：是y"
      ]
    },
    {
      "cell_type": "code",
      "metadata": {
        "id": "R4kZJGQdHdjy"
      },
      "source": [
        "#@title 基礎環境設定\r\n",
        "import os\r\n",
        "import shutil\r\n",
        "import speech_recognition as sr\r\n",
        "import wave\r\n",
        "import json\r\n",
        "import numpy as np\r\n",
        "\r\n",
        "#@markdown 取得 mp3 路徑\r\n",
        "mp3Name= '/content/drive/MyDrive/210121_001.MP3' #@param {type:\"string\"}\r\n",
        "#@markdown 將 mp3 轉換為 wav 檔，然後切割為 30 秒一個檔案，設定 wav 切割檔的存放目錄\r\n",
        "wav_path='wav' #@param {type:\"string\"}\r\n",
        "#@markdown 將30秒 wav 檔轉語音的文字檔存放目錄\r\n",
        "txt_path='txt' #@param {type:\"string\"}\r\n",
        "\r\n",
        "workpath=os.path.dirname(mp3Name)\r\n",
        "mp3Name=os.path.basename(mp3Name)\r\n",
        "FileName = mp3Name[:-4]+\".wav\"\r\n",
        "os.chdir(workpath)\r\n",
        "#@markdown 若 wav_path, txt_path 目錄存在是否移除重建\r\n",
        "chk='y' #@param [\"y\",\"n\"]"
      ],
      "execution_count": 16,
      "outputs": []
    },
    {
      "cell_type": "markdown",
      "metadata": {
        "id": "RIaMvxr7Jz_W"
      },
      "source": [
        "## 音頻轉換與切割\r\n",
        "\r\n",
        "1. 將 mp3 轉成 wav 檔\r\n",
        "2. 將音頻切割 30 秒一個檔案，並置於 wav_path 目錄下\r\n",
        "3. 建立 txt_path ，做為語音判識的輸出檔\r\n",
        "\r\n",
        "\r\n"
      ]
    },
    {
      "cell_type": "code",
      "metadata": {
        "id": "rpnUIqKBKBnQ",
        "colab": {
          "base_uri": "https://localhost:8080/"
        },
        "outputId": "8322453d-dd8b-4da6-8034-6692ec2a28a6"
      },
      "source": [
        "def reset_dir(path):\n",
        "    try:\n",
        "        os.mkdir(path)\n",
        "    except Exception:\n",
        "        shutil.rmtree(path)\n",
        "        os.mkdir(path)\n",
        " \n",
        "def CutFile(FileName, target_path):\n",
        " \n",
        "    # print(\"CutFile File Name is \", FileName)\n",
        "    f = wave.open(FileName, \"rb\")\n",
        "    params = f.getparams()    \n",
        "    nchannels, sampwidth, framerate, nframes = params[:4]\n",
        "    CutFrameNum = framerate * CutTimeDef\n",
        "    # 讀取格式資訊\n",
        "    # 一次性返回所有的WAV檔案的格式資訊，它返回的是一個組元(tuple)：聲道數, 量化位數（byte    單位）, 採\n",
        "    # 樣頻率, 取樣點數, 壓縮型別, 壓縮型別的描述。wave模組只支援非壓縮的資料，因此可以忽略最後兩個資訊\n",
        "\n",
        "    # print(\"CutFrameNum=%d\" % (CutFrameNum))\n",
        "    # print(\"nchannels=%d\" % (nchannels))\n",
        "    # print(\"sampwidth=%d\" % (sampwidth))\n",
        "    # print(\"framerate=%d\" % (framerate))\n",
        "    # print(\"nframes=%d\" % (nframes))\n",
        "\n",
        "    str_data = f.readframes(nframes)\n",
        "    f.close()  # 將波形資料轉換成陣列\n",
        "    # Cutnum =nframes/framerate/CutTimeDef\n",
        "    # 需要根據聲道數和量化單位，將讀取的二進位制資料轉換為一個可以計算的陣列\n",
        "    wave_data = np.frombuffer(str_data, dtype=np.short)\n",
        "    wave_data.shape = -1, 2\n",
        "    wave_data = wave_data.T\n",
        "    temp_data = wave_data.T\n",
        "    # StepNum = int(nframes/200)\n",
        "    StepNum = CutFrameNum\n",
        "    StepTotalNum = 0\n",
        "    haha = 0\n",
        "    while StepTotalNum < nframes:\n",
        "        # for j in range(int(Cutnum)):\n",
        "        # print(\"Stemp=%d\" % (haha))\n",
        "        SaveFile = \"%s-%03d.wav\" % (FileName[:-4], (haha+1))\n",
        "        # print(FileName)\n",
        "        if haha % 3==0:\n",
        "          print(\"*\",end='')\n",
        "        temp_dataTemp = temp_data[StepNum * (haha):StepNum * (haha + 1)]\n",
        "        haha = haha + 1\n",
        "        StepTotalNum = haha * StepNum\n",
        "        temp_dataTemp.shape = 1, -1\n",
        "        temp_dataTemp = temp_dataTemp.astype(np.short)  # 開啟WAV文件\n",
        "        f = wave.open(target_path+\"/\" + SaveFile, \"wb\")\n",
        "        # 配置聲道數、量化位數和取樣頻率\n",
        "        f.setnchannels(nchannels)\n",
        "        f.setsampwidth(sampwidth)\n",
        "        f.setframerate(framerate)\n",
        "        # 將wav_data轉換為二進位制資料寫入檔案\n",
        "        f.writeframes(temp_dataTemp.tobytes())\n",
        "        f.close()\n",
        "\n",
        "\n",
        "print(\" mp3 轉 wav 檔 \".center(100,'=')) \n",
        "os.system('{} -i {} {}'.format(\"ffmpeg\",mp3Name, FileName))\n",
        "print(\" Wav 檔名為 {} \".format(FileName).center(96))\n",
        "if chk == 'y':\n",
        "    reset_dir(wav_path)\n",
        "    reset_dir(txt_path)\n",
        "# # Cut Wave Setting\n",
        "CutTimeDef = 30  # 以1s截斷檔案\n",
        "print(\" 音頻以每{}秒分割 \".format(CutTimeDef).center(94,'='))\n",
        "CutFile(FileName, wav_path)\n",
        "print(\"\")\n",
        "print(\" 完成分割 \".center(100,'-'))\n",
        "os.remove(FileName)\n"
      ],
      "execution_count": 17,
      "outputs": [
        {
          "output_type": "stream",
          "text": [
            "=========================================== mp3 轉 wav 檔 ============================================\n",
            "                                     Wav 檔名為 210121_001.wav                                     \n",
            "========================================= 音頻以每30秒分割 ==========================================\n",
            "*********************************************\n",
            "----------------------------------------------- 完成分割 -----------------------------------------------\n"
          ],
          "name": "stdout"
        }
      ]
    },
    {
      "cell_type": "code",
      "metadata": {
        "id": "ANGuF_JAgM3A"
      },
      "source": [
        ""
      ],
      "execution_count": null,
      "outputs": []
    },
    {
      "cell_type": "markdown",
      "metadata": {
        "id": "msvFQZENdwGZ"
      },
      "source": [
        "## 文字轉語音"
      ]
    },
    {
      "cell_type": "code",
      "metadata": {
        "id": "rUh0kL6hC6yd",
        "colab": {
          "base_uri": "https://localhost:8080/",
          "height": 410
        },
        "outputId": "e4f7f7d7-3788-44c9-9167-dc0df0fcff6a"
      },
      "source": [
        "\r\n",
        "def VoiceToText(path, files, target_path):\r\n",
        "    for file in files:\r\n",
        "        txt_file = \"%s/%s.txt\" % (target_path, file[:-4])\r\n",
        "        if os.path.isfile(txt_file):\r\n",
        "            continue\r\n",
        "        with open(\"%s/%s.txt\" % (target_path, file[:-4]), \"w\", encoding=\"utf-8\") as f:\r\n",
        "            f.write(\"%s:\\n\" % file)\r\n",
        "            r = sr.Recognizer()  # 預設辨識英文\r\n",
        "            with sr.WavFile(path+\"/\"+file) as source:  # 讀取wav檔\r\n",
        "                audio = r.record(source)\r\n",
        "            try:\r\n",
        "                text = r.recognize_google(audio,language=\"zh-TW\")\r\n",
        "                print(file)\r\n",
        "                if len(text) == 0:\r\n",
        "                    print(\"===無資料==\")\r\n",
        "                    continue\r\n",
        "\r\n",
        "                print(text)\r\n",
        "                f.write(\"%s \\n\\n\" % text)\r\n",
        "                if file == files[-1]:\r\n",
        "                    print(\"結束翻譯\")\r\n",
        "            except sr.RequestError as e:\r\n",
        "                print(\"無法翻譯{0}\".format(e))\r\n",
        "                # 兩個 except 是當語音辨識不出來的時候 防呆用的\r\n",
        "                # 使用Google的服務\r\n",
        "            except LookupError:\r\n",
        "                print(\"Could not understand audio\")\r\n",
        "            except sr.UnknownValueError:\r\n",
        "                print(\"Error: 無法識別 Audio\")\r\n",
        "\r\n",
        "\r\n",
        "def texts_to_one(path, target_file):\r\n",
        "    files = os.listdir(path)\r\n",
        "    with open(target_file, \"w\", encoding=\"utf-8\") as f:\r\n",
        "        for file in files:\r\n",
        "            with open(os.path.join(path, file), \"r\", encoding='utf-8') as f2:\r\n",
        "                f.write(f2.read())\r\n",
        "    print(\"完成合併, 檔案位於 %s \" % target_file)\r\n",
        "\r\n",
        "\r\n",
        "def texts2otr(path, target_file, audio_name, timeperiod):\r\n",
        "    template = '''<p><span class=\"timestamp\" data-timestamp=\"{}.000000\">{}</span>{}</p><p><br/></p>\r\n",
        "    '''\r\n",
        "    files = os.listdir(path)\r\n",
        "    content = ''\r\n",
        "    files = [path+\"/\" + f for f in files if f.endswith(\".txt\")]\r\n",
        "    with open(target_file, \"w\", encoding=\"utf-8\") as f:\r\n",
        "\r\n",
        "        for file in files:\r\n",
        "            with open(file, \"r\", encoding=\"utf-8\") as f2:\r\n",
        "                txt = f2.read().split(\"\\n\")\r\n",
        "                if len(txt) < 2:\r\n",
        "                    continue\r\n",
        "                times = int(txt[0].split(\"-\")[1][:-5])*30\r\n",
        "                secs, mins = times % 60, (times//60) % 60\r\n",
        "                hours = (times//60)//60\r\n",
        "                timeF = \"{:02d}:{:02d}:{:02d}\".format(hours, mins, secs)\r\n",
        "                content += template.format(times, timeF, txt[1])\r\n",
        "\r\n",
        "        output = {\"text\": content, \"media\": audio_name,\r\n",
        "                  \"media-time\": timeperiod}\r\n",
        "        f.write(json.dumps(output, ensure_ascii=False))\r\n",
        "\r\n",
        "\r\n",
        "\r\n",
        "#@markdown 若 wav_path, txt_path 目錄存在是否移除重建\r\n",
        "remove_dir='n' #@param [\"y\",\"n\"]\r\n",
        "\r\n",
        "files = os.listdir(wav_path)\r\n",
        "VoiceToText(wav_path, files, txt_path)\r\n",
        "\r\n",
        "target_txtfile = \"{}{}.txt\".format(path, FileName[:-4])\r\n",
        "texts_to_one(txt_path, target_txtfile)\r\n",
        "otr_file = \"{}{}.otr\".format(path, FileName[:-4])\r\n",
        "with wave.open(FileName, \"rb\") as f:\r\n",
        "    params = f.getparams()\r\n",
        "texts2otr(txt_path, otr_file, FileName, params.nframes)\r\n",
        "if remove_dir=='y':\r\n",
        "  shutil.rmdir(wav_path)\r\n",
        "  shutil.rmdir(txt_path)\r\n"
      ],
      "execution_count": 21,
      "outputs": [
        {
          "output_type": "stream",
          "text": [
            "210121_001-012.wav\n",
            "这会是这一个你就是需求跟任务矩阵\n"
          ],
          "name": "stdout"
        },
        {
          "output_type": "error",
          "ename": "KeyboardInterrupt",
          "evalue": "ignored",
          "traceback": [
            "\u001b[0;31m---------------------------------------------------------------------------\u001b[0m",
            "\u001b[0;31mKeyboardInterrupt\u001b[0m                         Traceback (most recent call last)",
            "\u001b[0;32m<ipython-input-21-f0c845a9ff6c>\u001b[0m in \u001b[0;36m<module>\u001b[0;34m()\u001b[0m\n\u001b[1;32m     69\u001b[0m \u001b[0;34m\u001b[0m\u001b[0m\n\u001b[1;32m     70\u001b[0m \u001b[0mfiles\u001b[0m \u001b[0;34m=\u001b[0m \u001b[0mos\u001b[0m\u001b[0;34m.\u001b[0m\u001b[0mlistdir\u001b[0m\u001b[0;34m(\u001b[0m\u001b[0mwav_path\u001b[0m\u001b[0;34m)\u001b[0m\u001b[0;34m\u001b[0m\u001b[0;34m\u001b[0m\u001b[0m\n\u001b[0;32m---> 71\u001b[0;31m \u001b[0mVoiceToText\u001b[0m\u001b[0;34m(\u001b[0m\u001b[0mwav_path\u001b[0m\u001b[0;34m,\u001b[0m \u001b[0mfiles\u001b[0m\u001b[0;34m,\u001b[0m \u001b[0mtxt_path\u001b[0m\u001b[0;34m)\u001b[0m\u001b[0;34m\u001b[0m\u001b[0;34m\u001b[0m\u001b[0m\n\u001b[0m\u001b[1;32m     72\u001b[0m \u001b[0;34m\u001b[0m\u001b[0m\n\u001b[1;32m     73\u001b[0m \u001b[0mtarget_txtfile\u001b[0m \u001b[0;34m=\u001b[0m \u001b[0;34m\"{}{}.txt\"\u001b[0m\u001b[0;34m.\u001b[0m\u001b[0mformat\u001b[0m\u001b[0;34m(\u001b[0m\u001b[0mpath\u001b[0m\u001b[0;34m,\u001b[0m \u001b[0mFileName\u001b[0m\u001b[0;34m[\u001b[0m\u001b[0;34m:\u001b[0m\u001b[0;34m-\u001b[0m\u001b[0;36m4\u001b[0m\u001b[0;34m]\u001b[0m\u001b[0;34m)\u001b[0m\u001b[0;34m\u001b[0m\u001b[0;34m\u001b[0m\u001b[0m\n",
            "\u001b[0;32m<ipython-input-21-f0c845a9ff6c>\u001b[0m in \u001b[0;36mVoiceToText\u001b[0;34m(path, files, target_path)\u001b[0m\n\u001b[1;32m     11\u001b[0m                 \u001b[0maudio\u001b[0m \u001b[0;34m=\u001b[0m \u001b[0mr\u001b[0m\u001b[0;34m.\u001b[0m\u001b[0mrecord\u001b[0m\u001b[0;34m(\u001b[0m\u001b[0msource\u001b[0m\u001b[0;34m)\u001b[0m\u001b[0;34m\u001b[0m\u001b[0;34m\u001b[0m\u001b[0m\n\u001b[1;32m     12\u001b[0m             \u001b[0;32mtry\u001b[0m\u001b[0;34m:\u001b[0m\u001b[0;34m\u001b[0m\u001b[0;34m\u001b[0m\u001b[0m\n\u001b[0;32m---> 13\u001b[0;31m                 \u001b[0mtext\u001b[0m \u001b[0;34m=\u001b[0m \u001b[0mr\u001b[0m\u001b[0;34m.\u001b[0m\u001b[0mrecognize_google\u001b[0m\u001b[0;34m(\u001b[0m\u001b[0maudio\u001b[0m\u001b[0;34m,\u001b[0m\u001b[0mlanguage\u001b[0m\u001b[0;34m=\u001b[0m\u001b[0;34m\"zh-TW\"\u001b[0m\u001b[0;34m)\u001b[0m\u001b[0;34m\u001b[0m\u001b[0;34m\u001b[0m\u001b[0m\n\u001b[0m\u001b[1;32m     14\u001b[0m                 \u001b[0mprint\u001b[0m\u001b[0;34m(\u001b[0m\u001b[0mfile\u001b[0m\u001b[0;34m)\u001b[0m\u001b[0;34m\u001b[0m\u001b[0;34m\u001b[0m\u001b[0m\n\u001b[1;32m     15\u001b[0m                 \u001b[0;32mif\u001b[0m \u001b[0mlen\u001b[0m\u001b[0;34m(\u001b[0m\u001b[0mtext\u001b[0m\u001b[0;34m)\u001b[0m \u001b[0;34m==\u001b[0m \u001b[0;36m0\u001b[0m\u001b[0;34m:\u001b[0m\u001b[0;34m\u001b[0m\u001b[0;34m\u001b[0m\u001b[0m\n",
            "\u001b[0;32m/usr/local/lib/python3.6/dist-packages/speech_recognition/__init__.py\u001b[0m in \u001b[0;36mrecognize_google\u001b[0;34m(self, audio_data, key, language, show_all)\u001b[0m\n\u001b[1;32m    843\u001b[0m         \u001b[0;32mexcept\u001b[0m \u001b[0mURLError\u001b[0m \u001b[0;32mas\u001b[0m \u001b[0me\u001b[0m\u001b[0;34m:\u001b[0m\u001b[0;34m\u001b[0m\u001b[0;34m\u001b[0m\u001b[0m\n\u001b[1;32m    844\u001b[0m             \u001b[0;32mraise\u001b[0m \u001b[0mRequestError\u001b[0m\u001b[0;34m(\u001b[0m\u001b[0;34m\"recognition connection failed: {}\"\u001b[0m\u001b[0;34m.\u001b[0m\u001b[0mformat\u001b[0m\u001b[0;34m(\u001b[0m\u001b[0me\u001b[0m\u001b[0;34m.\u001b[0m\u001b[0mreason\u001b[0m\u001b[0;34m)\u001b[0m\u001b[0;34m)\u001b[0m\u001b[0;34m\u001b[0m\u001b[0;34m\u001b[0m\u001b[0m\n\u001b[0;32m--> 845\u001b[0;31m         \u001b[0mresponse_text\u001b[0m \u001b[0;34m=\u001b[0m \u001b[0mresponse\u001b[0m\u001b[0;34m.\u001b[0m\u001b[0mread\u001b[0m\u001b[0;34m(\u001b[0m\u001b[0;34m)\u001b[0m\u001b[0;34m.\u001b[0m\u001b[0mdecode\u001b[0m\u001b[0;34m(\u001b[0m\u001b[0;34m\"utf-8\"\u001b[0m\u001b[0;34m)\u001b[0m\u001b[0;34m\u001b[0m\u001b[0;34m\u001b[0m\u001b[0m\n\u001b[0m\u001b[1;32m    846\u001b[0m \u001b[0;34m\u001b[0m\u001b[0m\n\u001b[1;32m    847\u001b[0m         \u001b[0;31m# ignore any blank blocks\u001b[0m\u001b[0;34m\u001b[0m\u001b[0;34m\u001b[0m\u001b[0;34m\u001b[0m\u001b[0m\n",
            "\u001b[0;32m/usr/lib/python3.6/http/client.py\u001b[0m in \u001b[0;36mread\u001b[0;34m(self, amt)\u001b[0m\n\u001b[1;32m    468\u001b[0m \u001b[0;34m\u001b[0m\u001b[0m\n\u001b[1;32m    469\u001b[0m             \u001b[0;32mif\u001b[0m \u001b[0mself\u001b[0m\u001b[0;34m.\u001b[0m\u001b[0mchunked\u001b[0m\u001b[0;34m:\u001b[0m\u001b[0;34m\u001b[0m\u001b[0;34m\u001b[0m\u001b[0m\n\u001b[0;32m--> 470\u001b[0;31m                 \u001b[0;32mreturn\u001b[0m \u001b[0mself\u001b[0m\u001b[0;34m.\u001b[0m\u001b[0m_readall_chunked\u001b[0m\u001b[0;34m(\u001b[0m\u001b[0;34m)\u001b[0m\u001b[0;34m\u001b[0m\u001b[0;34m\u001b[0m\u001b[0m\n\u001b[0m\u001b[1;32m    471\u001b[0m \u001b[0;34m\u001b[0m\u001b[0m\n\u001b[1;32m    472\u001b[0m             \u001b[0;32mif\u001b[0m \u001b[0mself\u001b[0m\u001b[0;34m.\u001b[0m\u001b[0mlength\u001b[0m \u001b[0;32mis\u001b[0m \u001b[0;32mNone\u001b[0m\u001b[0;34m:\u001b[0m\u001b[0;34m\u001b[0m\u001b[0;34m\u001b[0m\u001b[0m\n",
            "\u001b[0;32m/usr/lib/python3.6/http/client.py\u001b[0m in \u001b[0;36m_readall_chunked\u001b[0;34m(self)\u001b[0m\n\u001b[1;32m    575\u001b[0m         \u001b[0;32mtry\u001b[0m\u001b[0;34m:\u001b[0m\u001b[0;34m\u001b[0m\u001b[0;34m\u001b[0m\u001b[0m\n\u001b[1;32m    576\u001b[0m             \u001b[0;32mwhile\u001b[0m \u001b[0;32mTrue\u001b[0m\u001b[0;34m:\u001b[0m\u001b[0;34m\u001b[0m\u001b[0;34m\u001b[0m\u001b[0m\n\u001b[0;32m--> 577\u001b[0;31m                 \u001b[0mchunk_left\u001b[0m \u001b[0;34m=\u001b[0m \u001b[0mself\u001b[0m\u001b[0;34m.\u001b[0m\u001b[0m_get_chunk_left\u001b[0m\u001b[0;34m(\u001b[0m\u001b[0;34m)\u001b[0m\u001b[0;34m\u001b[0m\u001b[0;34m\u001b[0m\u001b[0m\n\u001b[0m\u001b[1;32m    578\u001b[0m                 \u001b[0;32mif\u001b[0m \u001b[0mchunk_left\u001b[0m \u001b[0;32mis\u001b[0m \u001b[0;32mNone\u001b[0m\u001b[0;34m:\u001b[0m\u001b[0;34m\u001b[0m\u001b[0;34m\u001b[0m\u001b[0m\n\u001b[1;32m    579\u001b[0m                     \u001b[0;32mbreak\u001b[0m\u001b[0;34m\u001b[0m\u001b[0;34m\u001b[0m\u001b[0m\n",
            "\u001b[0;32m/usr/lib/python3.6/http/client.py\u001b[0m in \u001b[0;36m_get_chunk_left\u001b[0;34m(self)\u001b[0m\n\u001b[1;32m    558\u001b[0m                 \u001b[0mself\u001b[0m\u001b[0;34m.\u001b[0m\u001b[0m_safe_read\u001b[0m\u001b[0;34m(\u001b[0m\u001b[0;36m2\u001b[0m\u001b[0;34m)\u001b[0m  \u001b[0;31m# toss the CRLF at the end of the chunk\u001b[0m\u001b[0;34m\u001b[0m\u001b[0;34m\u001b[0m\u001b[0m\n\u001b[1;32m    559\u001b[0m             \u001b[0;32mtry\u001b[0m\u001b[0;34m:\u001b[0m\u001b[0;34m\u001b[0m\u001b[0;34m\u001b[0m\u001b[0m\n\u001b[0;32m--> 560\u001b[0;31m                 \u001b[0mchunk_left\u001b[0m \u001b[0;34m=\u001b[0m \u001b[0mself\u001b[0m\u001b[0;34m.\u001b[0m\u001b[0m_read_next_chunk_size\u001b[0m\u001b[0;34m(\u001b[0m\u001b[0;34m)\u001b[0m\u001b[0;34m\u001b[0m\u001b[0;34m\u001b[0m\u001b[0m\n\u001b[0m\u001b[1;32m    561\u001b[0m             \u001b[0;32mexcept\u001b[0m \u001b[0mValueError\u001b[0m\u001b[0;34m:\u001b[0m\u001b[0;34m\u001b[0m\u001b[0;34m\u001b[0m\u001b[0m\n\u001b[1;32m    562\u001b[0m                 \u001b[0;32mraise\u001b[0m \u001b[0mIncompleteRead\u001b[0m\u001b[0;34m(\u001b[0m\u001b[0;34mb''\u001b[0m\u001b[0;34m)\u001b[0m\u001b[0;34m\u001b[0m\u001b[0;34m\u001b[0m\u001b[0m\n",
            "\u001b[0;32m/usr/lib/python3.6/http/client.py\u001b[0m in \u001b[0;36m_read_next_chunk_size\u001b[0;34m(self)\u001b[0m\n\u001b[1;32m    518\u001b[0m     \u001b[0;32mdef\u001b[0m \u001b[0m_read_next_chunk_size\u001b[0m\u001b[0;34m(\u001b[0m\u001b[0mself\u001b[0m\u001b[0;34m)\u001b[0m\u001b[0;34m:\u001b[0m\u001b[0;34m\u001b[0m\u001b[0;34m\u001b[0m\u001b[0m\n\u001b[1;32m    519\u001b[0m         \u001b[0;31m# Read the next chunk size from the file\u001b[0m\u001b[0;34m\u001b[0m\u001b[0;34m\u001b[0m\u001b[0;34m\u001b[0m\u001b[0m\n\u001b[0;32m--> 520\u001b[0;31m         \u001b[0mline\u001b[0m \u001b[0;34m=\u001b[0m \u001b[0mself\u001b[0m\u001b[0;34m.\u001b[0m\u001b[0mfp\u001b[0m\u001b[0;34m.\u001b[0m\u001b[0mreadline\u001b[0m\u001b[0;34m(\u001b[0m\u001b[0m_MAXLINE\u001b[0m \u001b[0;34m+\u001b[0m \u001b[0;36m1\u001b[0m\u001b[0;34m)\u001b[0m\u001b[0;34m\u001b[0m\u001b[0;34m\u001b[0m\u001b[0m\n\u001b[0m\u001b[1;32m    521\u001b[0m         \u001b[0;32mif\u001b[0m \u001b[0mlen\u001b[0m\u001b[0;34m(\u001b[0m\u001b[0mline\u001b[0m\u001b[0;34m)\u001b[0m \u001b[0;34m>\u001b[0m \u001b[0m_MAXLINE\u001b[0m\u001b[0;34m:\u001b[0m\u001b[0;34m\u001b[0m\u001b[0;34m\u001b[0m\u001b[0m\n\u001b[1;32m    522\u001b[0m             \u001b[0;32mraise\u001b[0m \u001b[0mLineTooLong\u001b[0m\u001b[0;34m(\u001b[0m\u001b[0;34m\"chunk size\"\u001b[0m\u001b[0;34m)\u001b[0m\u001b[0;34m\u001b[0m\u001b[0;34m\u001b[0m\u001b[0m\n",
            "\u001b[0;32m/usr/lib/python3.6/socket.py\u001b[0m in \u001b[0;36mreadinto\u001b[0;34m(self, b)\u001b[0m\n\u001b[1;32m    584\u001b[0m         \u001b[0;32mwhile\u001b[0m \u001b[0;32mTrue\u001b[0m\u001b[0;34m:\u001b[0m\u001b[0;34m\u001b[0m\u001b[0;34m\u001b[0m\u001b[0m\n\u001b[1;32m    585\u001b[0m             \u001b[0;32mtry\u001b[0m\u001b[0;34m:\u001b[0m\u001b[0;34m\u001b[0m\u001b[0;34m\u001b[0m\u001b[0m\n\u001b[0;32m--> 586\u001b[0;31m                 \u001b[0;32mreturn\u001b[0m \u001b[0mself\u001b[0m\u001b[0;34m.\u001b[0m\u001b[0m_sock\u001b[0m\u001b[0;34m.\u001b[0m\u001b[0mrecv_into\u001b[0m\u001b[0;34m(\u001b[0m\u001b[0mb\u001b[0m\u001b[0;34m)\u001b[0m\u001b[0;34m\u001b[0m\u001b[0;34m\u001b[0m\u001b[0m\n\u001b[0m\u001b[1;32m    587\u001b[0m             \u001b[0;32mexcept\u001b[0m \u001b[0mtimeout\u001b[0m\u001b[0;34m:\u001b[0m\u001b[0;34m\u001b[0m\u001b[0;34m\u001b[0m\u001b[0m\n\u001b[1;32m    588\u001b[0m                 \u001b[0mself\u001b[0m\u001b[0;34m.\u001b[0m\u001b[0m_timeout_occurred\u001b[0m \u001b[0;34m=\u001b[0m \u001b[0;32mTrue\u001b[0m\u001b[0;34m\u001b[0m\u001b[0;34m\u001b[0m\u001b[0m\n",
            "\u001b[0;31mKeyboardInterrupt\u001b[0m: "
          ]
        }
      ]
    },
    {
      "cell_type": "code",
      "metadata": {
        "id": "z2UVo6U1DSbz",
        "colab": {
          "base_uri": "https://localhost:8080/"
        },
        "outputId": "83fa28e6-904e-4356-fb16-bf3929f679f8"
      },
      "source": [
        "print(\"我是誰\")"
      ],
      "execution_count": 22,
      "outputs": [
        {
          "output_type": "stream",
          "text": [
            "我是誰\n"
          ],
          "name": "stdout"
        }
      ]
    },
    {
      "cell_type": "code",
      "metadata": {
        "id": "d2lK20vjDCB9"
      },
      "source": [
        "\r\n"
      ],
      "execution_count": null,
      "outputs": []
    }
  ]
}