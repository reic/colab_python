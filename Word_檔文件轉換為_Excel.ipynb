{
  "nbformat": 4,
  "nbformat_minor": 0,
  "metadata": {
    "colab": {
      "name": "Word 檔文件轉換為 Excel",
      "provenance": [],
      "collapsed_sections": [],
      "toc_visible": true,
      "mount_file_id": "1pM5vkIjp5tu3tlTGE4UepW08_Ldsoag8",
      "authorship_tag": "ABX9TyPF9xlQR5JKqopdiPQB1DFT",
      "include_colab_link": true
    },
    "kernelspec": {
      "name": "python3",
      "display_name": "Python 3"
    },
    "language_info": {
      "name": "python"
    }
  },
  "cells": [
    {
      "cell_type": "markdown",
      "metadata": {
        "id": "view-in-github",
        "colab_type": "text"
      },
      "source": [
        "<a href=\"https://colab.research.google.com/github/reic/colab_python/blob/main/Word_%E6%AA%94%E6%96%87%E4%BB%B6%E8%BD%89%E6%8F%9B%E7%82%BA_Excel.ipynb\" target=\"_parent\"><img src=\"https://colab.research.google.com/assets/colab-badge.svg\" alt=\"Open In Colab\"/></a>"
      ]
    },
    {
      "cell_type": "markdown",
      "metadata": {
        "id": "uo5TrNiAsub-"
      },
      "source": [
        "# **將格式化 Word 的內容轉換為 Excel**\n",
        "首先， Word 文字的撰寫需要具有一定的規範，才可以將 word 文件的資料轉換成 excel。\n",
        "\n",
        "詳細內容可參考最後的 Word 編寫範例。"
      ]
    },
    {
      "cell_type": "code",
      "metadata": {
        "id": "vWDnAa8DVqKv",
        "cellView": "form"
      },
      "source": [
        "#@title 安裝必要套件\n",
        "!pip install docx2txt "
      ],
      "execution_count": null,
      "outputs": []
    },
    {
      "cell_type": "code",
      "metadata": {
        "id": "Xcya3e-oYvoS",
        "cellView": "form"
      },
      "source": [
        "import gspread\n",
        "import pandas as pd\n",
        "import datetime,os,docx2txt\n",
        "\n",
        "\n",
        "#@title Write Data into Gsheet \n",
        "\n",
        "#@markdown 輸出的 excel 檔名\n",
        "wordFilename = \"/content/drive/MyDrive/mytest.docx\" #@param {type:\"string\"}\n",
        "\n",
        "#@markdown 輸出的 excel 檔名，或放置和 docx 同目錄下\n",
        "excel__name = \"mytest.xlsx\" #@param {type:\"string\"}\n",
        "\n",
        "\n",
        "#@markdown 欄位分隔符號\n",
        "delimiter=\"\\uFF1A\" #@param {type:\"string\"}\n",
        "\n",
        "#@markdown 欄位名稱，請用 分隔符號 分隔\n",
        "columNames = \"\\u6A19\\u984C\\uFF1A\\u5167\\u5BB9\\uFF1A\\u51FA\\u8655\\uFF1A\\u6587\\u7AE0\\u65E5\\u671F\" #@param {type:\"string\"}\n",
        "\n",
        "#@markdown 在 word 檔案，需要採用同樣的分隔符號，區分欄位和內容, 例如：\n",
        "\n",
        "#@markdown 標題：蘋果新春發表有...\n",
        "\n",
        "#@markdown 內容：蘋果於台灣時間今（21）日凌晨舉辦今年首場新品發表會，此次一共發表了五款硬體新品，包括搭配Mini LED螢幕的新一代iPad Pro平板、七種繽紛顏色的新一代 iMac、AirTag藍牙防丟器、搭載A12仿生晶片的新一代Apple TV 4K機上盒及iPhone 12紫色新款。\n",
        "\n",
        "#@markdown 出處：yahoo!3C科技\n",
        "\n",
        "#@markdown 文章日期：2021/4/21\n",
        "delimiter=delimiter.strip()\n",
        "wordPos=wordFilename.rfind(\"/\")\n",
        "dirPath=wordFilename[:wordPos]\n",
        "columList=[itm.strip() for itm in columNames.split(delimiter)]\n",
        "# docx2txt.process(wordFilename)\n",
        "content=[itm.strip() for itm in docx2txt.process(wordFilename).split(\"\\n\") if len(itm)>1]\n",
        "topd={}\n",
        "for itm in columList:\n",
        "  topd[itm]=list()\n",
        "\n",
        "for itm in content:\n",
        "  posistion=itm.find(\"：\")\n",
        "  topd[itm[:posistion]].append(itm[posistion+1:].strip())\n",
        "\n",
        "df=pd.DataFrame(topd,columns=columList)\n",
        "\n",
        "df.to_excel(f\"{dirPath}/{excel__name}\",index=False)\n",
        "print(\" 資料轉換結束 \".center(100,\"=\"))\n",
        "print()\n",
        "print(f\"Excel 檔名 {excel__name} ，\\n\\n已儲存於 {wordFilename[wordPos+1:]} 相同目錄\\n \")\n",
        "print(\"\".center(106,\"=\"))"
      ],
      "execution_count": null,
      "outputs": []
    },
    {
      "cell_type": "markdown",
      "metadata": {
        "id": "Q4_IWYW7rlah"
      },
      "source": [
        "# **Word 編寫範列**\n",
        "\n",
        "## 欄位名稱為：標題：內容：出處：文章日期\n",
        "\n",
        "## 分隔符號為： ：(全型冒號)\n",
        "\n",
        "標題：蘋果新春發表有...\n",
        "\n",
        "內容：蘋果於台灣時間今（21）日凌晨舉辦今年首場新品發表會，此次一共發表了五款硬體新品，包括搭配Mini \n",
        "\n",
        "LED螢幕的新一代iPad Pro平板、七種繽紛顏色的新一代 iMac、AirTag藍牙防丟器、搭載A12仿生晶片的新一代Apple TV 4K機上盒及iPhone 12紫色新款。\n",
        "\n",
        "出處：yahoo!3C科技\n",
        "\n",
        "文章日期：2021/4/21\n",
        "\n",
        "......\n",
        "\n",
        "......\n",
        "\n",
        "標題：韓媒：三星多款新機 提前在8月上市\n",
        "\n",
        "內容：消息人士透露，全球最大手機製造商三星電子正與南韓電信商洽談，規劃在8月推出平價款旗艦機Galaxy S21 FE和折疊系列Galaxy Z Fold3、Galaxy Z Flip3，以擴大手機市場的市占率。韓聯社報導，若三星證實這項消息，意味這次新機上市時機比往年早。Galaxy S21 FE的前身Galaxy S20 FE在去年10月上市，三星折疊手機Galaxy Z Fold2和Galaxy Z Flip則於9月上市。\n",
        "\n",
        "出處：聯合新聞網\n",
        "\n",
        "文章日期：2021/5/9\n"
      ]
    }
  ]
}